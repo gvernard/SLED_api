{
 "cells": [
  {
   "cell_type": "markdown",
   "id": "307cdf78",
   "metadata": {},
   "source": [
    "## Upload a paper"
   ]
  },
  {
   "cell_type": "code",
   "execution_count": null,
   "id": "4cf16fc8",
   "metadata": {},
   "outputs": [],
   "source": [
    "import os\n",
    "import sys\n",
    "import json\n",
    "import requests\n",
    "from requests.auth import HTTPBasicAuth\n",
    "\n",
    "# Optional (if reading from a .csv file)\n",
    "import numpy as np\n",
    "\n",
    "# Optional (if coordinates not in decimal degrees)\n",
    "from astropy import units as u\n",
    "from astropy.coordinates import SkyCoord"
   ]
  },
  {
   "cell_type": "markdown",
   "id": "702b339e",
   "metadata": {
    "tags": []
   },
   "source": [
    "### 1. Let's define the specific API endpoint and load credentials\n",
    "You should NOT save your passwords in Python documents. Instead it is safest to either set them as environment variables, for example, in an open shell terminal type: <code>export SLED_USERNAME=<your_SLED_username></code> and <code>export SLED_PASSWORD=<your_SLED_password></code>. You can also include these two commands in your shell profile file (e.g. ~/.bash_profile in Unix/Linux/Mac) or in an environment file."
   ]
  },
  {
   "cell_type": "code",
   "execution_count": null,
   "id": "59cdb6d3",
   "metadata": {},
   "outputs": [],
   "source": [
    "username, password = os.getenv('SLED_USERNAME'), os.getenv('SLED_PASSWORD')\n",
    "if (not username) or (not password):\n",
    "    print('You have not set your SLED username and password environment variables.')"
   ]
  },
  {
   "cell_type": "markdown",
   "id": "92d675da",
   "metadata": {},
   "source": [
    "### 2. Select lenses to include in the paper\n",
    "\n",
    "All the lenses **should already exist in SLED**, if not, then follow the instructions on [how to inject lenses](https://sled.amnh.org/sled_howto/#how-to-inject-lenses). All lenses **must be public** as well. Matching with existing SLED lenses happens via their **RA and DEC** coordinates. Coordinates should be in decimal degrees and in the J2000 system. In this example we use dummy coordinates - one can read a list of RA and DEC from a .csv file, or a .json file with exported lenses from SLED. Finally, the [bibcode](https://en.wikipedia.org/wiki/Bibcode) of the paper must be known. SLED uses the bibcode to retrieve the paper and related information automatically from ADS."
   ]
  },
  {
   "cell_type": "code",
   "execution_count": null,
   "id": "e8e04057",
   "metadata": {},
   "outputs": [],
   "source": [
    "ras = [340.125800,172.964400]\n",
    "decs = [3.358550,-12.532900]\n",
    "\n",
    "## If reading from a .csv file use the following command\n",
    "#ras,decs = np.genfromtxt('random_file.csv',dtype=None,skip_header=1,usecols=[3,4],delimiter=',',encoding=None,unpack=True)\n",
    "\n",
    "\n",
    "## If the RA and DEC are not in decimal degrees then use the following loop\n",
    "#for i in range(0,len(ras)):\n",
    "#    c1 = SkyCoord(ras[i], unit=(u.hourangle, u.deg))\n",
    "#    c2 = SkyCoord(decs[i], unit=(u.hourangle, u.deg))\n",
    "#    ras[i] = c1\n",
    "#    decs[i] = c2\n",
    "\n",
    "## If reading from a .json file exported from SLED\n",
    "#ras = []\n",
    "#decs = []\n",
    "#with open('lenses.json') as f:\n",
    "#    lenses_tmp = json.load(f)\n",
    "#for lens in lenses_tmp:\n",
    "#    ras.append(float(lens[\"ra\"]))\n",
    "#    decs.append(float(lens[\"dec\"]))\n",
    "\n",
    "    \n",
    "lenses = []\n",
    "\n",
    "for i in range(0,len(ras)):\n",
    "    lenses.append(\n",
    "        {\n",
    "            \"ra\": ras[i],\n",
    "            \"dec\": decs[i],\n",
    "            \"discovery\": True,        # This is to indicate a discovery paper\n",
    "            \"classification\": False,  # This is to indicate a paper with a classification\n",
    "            \"model\": False            # This is to indicate a paper with a model\n",
    "        }\n",
    "    )"
   ]
  },
  {
   "cell_type": "markdown",
   "id": "323ac21d",
   "metadata": {},
   "source": [
    "### 3. Define the paper\n",
    "\n",
    "We package the lenses and the bibcode of the paper into one object."
   ]
  },
  {
   "cell_type": "code",
   "execution_count": null,
   "id": "0374f3cf",
   "metadata": {},
   "outputs": [],
   "source": [
    "paper = {\n",
    "    'bibcode': 'some_bibcode',\n",
    "    'lenses': lenses\n",
    "}\n",
    "print(paper)"
   ]
  },
  {
   "cell_type": "markdown",
   "id": "183a5b91",
   "metadata": {},
   "source": [
    "### 4. Now we query the database\n",
    "\n",
    "Use the requests package to send a POST request to the relevant API endpoint. The response is parsed as json and converted to a dictionary. There is no need to change the following lines.\n"
   ]
  },
  {
   "cell_type": "code",
   "execution_count": null,
   "id": "c3f0464a",
   "metadata": {},
   "outputs": [],
   "source": [
    "print(\"Uploading paper to the SLED server...\")\n",
    "r = requests.post(\"https://sled.amnh.org/api/upload-papers/\",\n",
    "                  data=json.dumps([paper]),\n",
    "                  headers={'Content-Type':'application/json'},\n",
    "                  auth=HTTPBasicAuth(username,password)\n",
    "                  )\n",
    "dbquery = json.loads(r.text)"
   ]
  },
  {
   "cell_type": "markdown",
   "id": "8154db67",
   "metadata": {},
   "source": [
    "### 5. Understanding the response\n",
    "\n",
    "The response will either contain errors, e.g. if some of the lenses are not public, or a success message. If successful, the newly added paper will now appear in [SLED](https://sled.amnh.org/sled_papers/query) and in your [user profile](https://sled.amnh.org/users/profile#papers)."
   ]
  },
  {
   "cell_type": "code",
   "execution_count": null,
   "id": "ea3096e3",
   "metadata": {},
   "outputs": [],
   "source": [
    "print(dbquery)"
   ]
  }
 ],
 "metadata": {
  "kernelspec": {
   "display_name": "Python 3 (ipykernel)",
   "language": "python",
   "name": "python3"
  },
  "language_info": {
   "codemirror_mode": {
    "name": "ipython",
    "version": 3
   },
   "file_extension": ".py",
   "mimetype": "text/x-python",
   "name": "python",
   "nbconvert_exporter": "python",
   "pygments_lexer": "ipython3",
   "version": "3.9.18"
  }
 },
 "nbformat": 4,
 "nbformat_minor": 5
}
