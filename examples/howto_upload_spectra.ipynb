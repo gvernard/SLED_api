{
 "cells": [
  {
   "cell_type": "markdown",
   "id": "307cdf78",
   "metadata": {},
   "source": [
    "## Uploading many spectra"
   ]
  },
  {
   "cell_type": "code",
   "execution_count": null,
   "id": "4cf16fc8",
   "metadata": {},
   "outputs": [],
   "source": [
    "import os\n",
    "import sys\n",
    "import json\n",
    "import requests\n",
    "from requests.auth import HTTPBasicAuth\n",
    "import base64\n",
    "\n",
    "# Optional (if reading from a .csv file)\n",
    "import numpy as np\n",
    "\n",
    "# Optional (if coordinates not in decimal degrees)\n",
    "from astropy import units as u\n",
    "from astropy.coordinates import SkyCoord"
   ]
  },
  {
   "cell_type": "markdown",
   "id": "702b339e",
   "metadata": {
    "tags": []
   },
   "source": [
    "### 1. Let's define the specific API endpoint and load credentials\n",
    "You should NOT save your passwords in Python documents. Instead it is safest to either set them as environment variables, for example, in an open shell terminal type: <code>export SLED_USERNAME=<your_SLED_username></code> and <code>export SLED_PASSWORD=<your_SLED_password></code>. You can also include these two commands in your shell profile file (e.g. ~/.bash_profile in Unix/Linux/Mac) or in an environment file."
   ]
  },
  {
   "cell_type": "code",
   "execution_count": null,
   "id": "59cdb6d3",
   "metadata": {},
   "outputs": [],
   "source": [
    "username, password = os.getenv('SLED_USERNAME'), os.getenv('SLED_PASSWORD')\n",
    "if (not username) or (not password):\n",
    "    print('You have not set your SLED username and password environment variables.')"
   ]
  },
  {
   "cell_type": "markdown",
   "id": "92d675da",
   "metadata": {},
   "source": [
    "### 2. Define a list of spectrum dictionaries\n",
    "\n",
    "All the fields associated with spectral data are described in the [SLED guide](https://sled.amnh.org/sled_guide/#object-specs-spectrum). In addition to these fields, the RA and DEC of the associated lens must be given. Coordinates should be in decimal degrees and in the J2000 system. To convert from ra/dec in hours-minutes/degrees-minutes, you can use the astropy coords functionality. The associated plot of the spectrum can be in .png, .jpg, or .jpeg format. It is recommended to restrict access to the uploaded data by setting 'access_level'='PRI' (or just omitting this field)."
   ]
  },
  {
   "cell_type": "code",
   "execution_count": null,
   "id": "e8e04057",
   "metadata": {},
   "outputs": [],
   "source": [
    "# An imaging data object. The RA and DEC are required only to match it to the correct lens.\n",
    "spectrum_tmp = {\n",
    "    'ra': 0.0,  # Decimal field, up to 5 decimal places, between 0 and 360\n",
    "    'dec': 0.0,  # Decimal field, up to 5 decimal places, between -90 and 90\n",
    "    'instrument': '',  # String, pre-defined choices, see guide\n",
    "    'image': '',  # The name of the image file, this will be replaced by the actual image data further down\n",
    "    'future': 'False', # String, 'True' or 'False'\n",
    "    'date_taken': '1990-03-22', # A date in the format YYYY-MM-DD, can be in the future\n",
    "    'access_level': 'PRI'\n",
    "}\n",
    "\n",
    "\n",
    "# Here we have the RA, DEC, and an image file name as lists:\n",
    "ras = [0.1,0.2] # dummy values\n",
    "decs = [-10.1,-10.2] # dummy values\n",
    "dates = ['1990-03-22','2001-04-01']\n",
    "fnames = ['spectrum_0.png','spectrum_1.png'] # dummy values\n",
    "\n",
    "## If reading from a .csv file use the following command (assuming 'instrument' doesn't change):\n",
    "#ras,decs,dates,fnames = np.genfromtxt('random_file.csv',dtype=None,skip_header=1,usecols=[0,1,3,4],delimiter=',',encoding=None,unpack=True)\n",
    "\n",
    "# And a path where our images are stored:\n",
    "path_to_img = 'some/dummy/path/'\n",
    "\n",
    "\n",
    "\n",
    "# We define a list of spectrum objects:\n",
    "new_spectra = []\n",
    "for i in range(0,len(ras)):\n",
    "    spectrum = spectrum_tmp.copy()\n",
    "\n",
    "    spectrum['image'] = path_to_img + fnames[i]\n",
    "    spectrum['ra'] = round(ras[i],5)\n",
    "    spectrum['dec'] = round(decs[i],5)\n",
    "    spectrum['date_taken'] = dates[i]\n",
    "    \n",
    "    ## If the RA and DEC are not in decimal degrees then use the following lines instead:\n",
    "    #c1 = SkyCoord(ras[i], unit=(u.hourangle, u.deg))\n",
    "    #c2 = SkyCoord(decs[i], unit=(u.hourangle, u.deg))\n",
    "    #spectrum['ra'] = round(c1,5)\n",
    "    #spectrum['dec'] = round(c2,5)\n",
    "    \n",
    "    if not os.path.isfile(spectrum['image']):\n",
    "        print(i,': NO image found with this filename: ',spectrum['image'])\n",
    "        sys.exit()\n",
    "    else:\n",
    "        new_spectra.append(spectrum)\n",
    "\n",
    "        \n",
    "print('Spectrum objects to be injected: ',len(new_spectra))\n",
    "if len(new_spectra)>0:\n",
    "    print('First spectrum in the list looks like this: ')\n",
    "    print(new_spectra[0])\n",
    "else:\n",
    "    print('No spectra to inject!')\n",
    "    sys.exit()"
   ]
  },
  {
   "cell_type": "markdown",
   "id": "183a5b91",
   "metadata": {},
   "source": [
    "### 3. Now send request to the database\n",
    "\n",
    "Use the requests package to send a POST request to the relevant API endpoint. The *'image'* field is replaced by the actual image data in base64 encoding. There is no need to change the following lines.\n"
   ]
  },
  {
   "cell_type": "code",
   "execution_count": null,
   "id": "c3f0464a",
   "metadata": {},
   "outputs": [],
   "source": [
    "for spectrum in new_spectra:\n",
    "    if spectrum['future'] == 'False':\n",
    "        spectrum['image'] = image_to_base64(f\"{spectrum['image']}\")\n",
    "\n",
    "final_json = {\n",
    "    'data_type': 'spectrum',\n",
    "    'data': new_spectra    \n",
    "}\n",
    "        \n",
    "print(\"Uploading to the SLED server...\")\n",
    "r = requests.post(\"https://sled.amnh.org/api/upload-data/\",\n",
    "                  data=json.dumps(final_json),\n",
    "                  headers={'Content-Type':'application/json','User-Agent':'SLED-api/1.0'},\n",
    "                  auth=HTTPBasicAuth(username,password)\n",
    "                  )\n",
    "dbquery = json.loads(r.text)"
   ]
  },
  {
   "cell_type": "markdown",
   "id": "8154db67",
   "metadata": {},
   "source": [
    "### 4. Understanding the response\n",
    "\n",
    "There are three possible types of response from the SLED API:\n",
    "- *errors*: your uploaded sample contains errors, e.g. the RA,DEC are not in the right format, etc.\n",
    "- *further action required*: if public (PUB) data are uploaded there will be some further action required.\n",
    "- *success*: the sample of new data was uploaded successfully"
   ]
  },
  {
   "cell_type": "code",
   "execution_count": null,
   "id": "ea3096e3",
   "metadata": {},
   "outputs": [],
   "source": [
    "print(dbquery)"
   ]
  }
 ],
 "metadata": {
  "kernelspec": {
   "display_name": "Python 3 (ipykernel)",
   "language": "python",
   "name": "python3"
  },
  "language_info": {
   "codemirror_mode": {
    "name": "ipython",
    "version": 3
   },
   "file_extension": ".py",
   "mimetype": "text/x-python",
   "name": "python",
   "nbconvert_exporter": "python",
   "pygments_lexer": "ipython3",
   "version": "3.9.18"
  }
 },
 "nbformat": 4,
 "nbformat_minor": 5
}
