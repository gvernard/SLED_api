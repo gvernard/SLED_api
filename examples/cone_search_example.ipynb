{
 "cells": [
  {
   "cell_type": "markdown",
   "id": "99d3fc80",
   "metadata": {},
   "source": [
    "## Python Notebook for a positional cone-search query of the SLED database "
   ]
  },
  {
   "cell_type": "code",
   "execution_count": 94,
   "id": "da61a48e-7ba9-439d-917e-4f3fd8b24227",
   "metadata": {},
   "outputs": [],
   "source": [
    "import os\n",
    "import json\n",
    "import requests\n",
    "from requests.auth import HTTPBasicAuth\n",
    "\n",
    "from astropy import units as u\n",
    "from astropy.coordinates import SkyCoord"
   ]
  },
  {
   "cell_type": "markdown",
   "id": "702b339e",
   "metadata": {
    "tags": []
   },
   "source": [
    "### 1. Let's define the specific API endpoint and load credentials\n",
    "You should NOT save your passwords in Python documents. Instead it is safest to either set them as environment variables, for example in your shell profile file (e.g., in Unix/Linux/Mac include export SLED_PASSWORD=??? and export SLED_USERNAME=??? in your .bash_profile), or in an environment file."
   ]
  },
  {
   "cell_type": "code",
   "execution_count": 95,
   "id": "634cd7a3-af76-4bb0-b086-76eabb903a5d",
   "metadata": {},
   "outputs": [],
   "source": [
    "urlquery = \"http://127.0.0.1:8000/api/query-lenses-full/\"\n",
    "username, password = os.getenv('SLED_USERNAME'), os.getenv('SLED_PASSWORD')\n",
    "\n",
    "if (not username) or (not password):\n",
    "    print('You have not set your SLED username and password environment variables. Please read the comments above.')"
   ]
  },
  {
   "cell_type": "markdown",
   "id": "8624f4ce",
   "metadata": {},
   "source": [
    "### 2. Define your coordinate positions and search radius for a cone-search\n",
    "Coordinates should be in decimal degrees, and in the J2000 system. To convert from ra/dec in hours-minutes/degrees-minutes, you can use the following astropy coords functionality."
   ]
  },
  {
   "cell_type": "code",
   "execution_count": 96,
   "id": "a32ee986",
   "metadata": {},
   "outputs": [],
   "source": [
    "position = '17 21 45.1 +88 42 22.0' #or '17:21:45.1 +88:42:22' or '17h21m45.1s +88d42m22s'\n",
    "c = SkyCoord(position, unit=(u.hourangle, u.deg))\n",
    "\n",
    "ra, dec = c.ra.degree, c.dec.degree"
   ]
  },
  {
   "cell_type": "code",
   "execution_count": 97,
   "id": "32bbff00",
   "metadata": {},
   "outputs": [],
   "source": [
    "radius = 10./3600 # in degrees"
   ]
  },
  {
   "cell_type": "markdown",
   "id": "37f15972",
   "metadata": {},
   "source": [
    "### 3. Now we query the database by sending the relevant information in a dictionary\n",
    "Use the requests package to send a POST request to the relevant API endpoint, and parse the response as a json, which will contain a single key 'lenses', the contents of which will be a list of dictionaries corresponding to database matches within the radius of the search position"
   ]
  },
  {
   "cell_type": "code",
   "execution_count": 98,
   "id": "60ba08ef-b3f2-49b0-900d-7c0b05be6c08",
   "metadata": {},
   "outputs": [],
   "source": [
    "lensdata = {'lens-ra_centre':ra, 'lens-dec_centre':dec, 'lens-radius':radius,\n",
    "            'append_papers':False, 'append_images':True, 'append_spectra':False, 'append_redshifts':False}\n",
    "\n",
    "r = requests.post(urlquery, data=lensdata, auth=HTTPBasicAuth(username, password))\n",
    "\n",
    "dbquery = json.loads(r.text)"
   ]
  },
  {
   "cell_type": "code",
   "execution_count": 99,
   "id": "4cf79e37-b2ea-40e4-a285-6291b1a561c7",
   "metadata": {},
   "outputs": [],
   "source": [
    "lenses = dbquery['lenses']"
   ]
  },
  {
   "cell_type": "code",
   "execution_count": 100,
   "id": "fd5e7b07",
   "metadata": {},
   "outputs": [
    {
     "name": "stdout",
     "output_type": "stream",
     "text": [
      "Your search returned 1 SLED match(es) with the following names:\n"
     ]
    }
   ],
   "source": [
    "print('Your search returned', len(lenses), 'SLED match(es) with the following names:')"
   ]
  },
  {
   "cell_type": "code",
   "execution_count": 101,
   "id": "5362f726",
   "metadata": {
    "scrolled": true
   },
   "outputs": [
    {
     "name": "stdout",
     "output_type": "stream",
     "text": [
      "J1721+8842\n"
     ]
    }
   ],
   "source": [
    "for lens in lenses:\n",
    "    print(lens['name'])"
   ]
  },
  {
   "cell_type": "markdown",
   "id": "d141ba24",
   "metadata": {},
   "source": [
    "### 4. Here are all the keys returned for the main lens metadata table. Please see other example documents on how to return values from the fields of other tables"
   ]
  },
  {
   "cell_type": "code",
   "execution_count": 102,
   "id": "5f11ab96",
   "metadata": {},
   "outputs": [
    {
     "name": "stdout",
     "output_type": "stream",
     "text": [
      "id = 3617\n",
      "created_at = 2024-03-14T01:02:07.904133Z\n",
      "modified_at = 2024-03-14T01:02:07.985404Z\n",
      "access_level = PUB\n",
      "ra = 260.45419\n",
      "dec = 88.70621\n",
      "name = J1721+8842\n",
      "alt_name = None\n",
      "score = None\n",
      "image_sep = 4.03\n",
      "info = \n",
      "n_img = 6\n",
      "flag = CONFIRMED\n",
      "image_conf = ['LONG-AXIS CUSP', 'CUSP']\n",
      "lens_type = ['GALAXY']\n",
      "source_type = ['QUASAR', 'DLA', 'PDLA']\n",
      "contaminant_type = []\n",
      "images = [{'access_level': 'PUB', 'instrument': 'WFC3', 'date_taken': '2019-06-09', 'exists': True, 'future': False, 'info': '', 'exposure_time': 2196.932, 'pixel_size': 0.128, 'band': 'F160W', 'url': 'https://hla.stsci.edu/cgi-bin/fitscut.cgi?red=hst_15652_15_wfc3_ir_f160w_idxo15&RA=260.45419&Dec=88.70621&size=110&format=FITS'}, {'access_level': 'PUB', 'instrument': 'WFC3', 'date_taken': '2019-06-09', 'exists': True, 'future': False, 'info': '', 'exposure_time': 1382.0, 'pixel_size': 0.04, 'band': 'F475X', 'url': 'https://hla.stsci.edu/cgi-bin/fitscut.cgi?red=idxo15010&RA=260.45419&Dec=88.70621&size=356&format=FITS'}, {'access_level': 'PUB', 'instrument': 'WFC3', 'date_taken': '2019-06-09', 'exists': True, 'future': False, 'info': '', 'exposure_time': 1428.0, 'pixel_size': 0.04, 'band': 'F814W', 'url': 'https://hla.stsci.edu/cgi-bin/fitscut.cgi?red=idxo15020&RA=260.45419&Dec=88.70621&size=356&format=FITS'}, {'access_level': 'PUB', 'instrument': 'Pan-STARRS1', 'date_taken': '2012-05-28', 'exists': True, 'future': False, 'info': 'stack', 'exposure_time': 731.0, 'pixel_size': 0.25, 'band': 'g', 'url': ''}, {'access_level': 'PUB', 'instrument': 'Pan-STARRS1', 'date_taken': '2012-12-26', 'exists': True, 'future': False, 'info': 'stack', 'exposure_time': 1260.0, 'pixel_size': 0.25, 'band': 'i', 'url': ''}, {'access_level': 'PUB', 'instrument': 'Pan-STARRS1', 'date_taken': '2013-04-01', 'exists': True, 'future': False, 'info': 'stack', 'exposure_time': 1060.0, 'pixel_size': 0.25, 'band': 'r', 'url': ''}, {'access_level': 'PUB', 'instrument': 'Pan-STARRS1', 'date_taken': '2012-08-27', 'exists': True, 'future': False, 'info': 'stack', 'exposure_time': 660.0, 'pixel_size': 0.25, 'band': 'z', 'url': ''}, {'access_level': 'PUB', 'instrument': 'Pan-STARRS1', 'date_taken': '2012-04-13', 'exists': True, 'future': False, 'info': 'stack', 'exposure_time': 870.0, 'pixel_size': 0.25, 'band': 'Y', 'url': ''}]\n"
     ]
    }
   ],
   "source": [
    "if len(lenses):\n",
    "    for key in lenses[0].keys():\n",
    "        print(key,'=',lenses[0][key])"
   ]
  },
  {
   "cell_type": "code",
   "execution_count": null,
   "id": "e7e9a53c-a4c2-46c5-a729-227f7bdcbc40",
   "metadata": {},
   "outputs": [],
   "source": []
  },
  {
   "cell_type": "code",
   "execution_count": null,
   "id": "def40d67-d87e-4549-90b1-1c5e6b189fdd",
   "metadata": {},
   "outputs": [],
   "source": []
  }
 ],
 "metadata": {
  "kernelspec": {
   "display_name": "Python 3 (ipykernel)",
   "language": "python",
   "name": "python3"
  },
  "language_info": {
   "codemirror_mode": {
    "name": "ipython",
    "version": 3
   },
   "file_extension": ".py",
   "mimetype": "text/x-python",
   "name": "python",
   "nbconvert_exporter": "python",
   "pygments_lexer": "ipython3",
   "version": "3.11.5"
  }
 },
 "nbformat": 4,
 "nbformat_minor": 5
}
