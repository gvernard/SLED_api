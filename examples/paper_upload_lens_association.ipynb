{
 "cells": [
  {
   "cell_type": "markdown",
   "id": "99d3fc80",
   "metadata": {},
   "source": [
    "## Python Notebook for a paper upload to the SLED database "
   ]
  },
  {
   "cell_type": "code",
   "execution_count": null,
   "id": "da61a48e-7ba9-439d-917e-4f3fd8b24227",
   "metadata": {},
   "outputs": [],
   "source": [
    "import os\n",
    "import json\n",
    "import requests\n",
    "from requests.auth import HTTPBasicAuth\n",
    "\n",
    "from astropy import units as u\n",
    "from astropy.coordinates import SkyCoord"
   ]
  },
  {
   "cell_type": "markdown",
   "id": "702b339e",
   "metadata": {
    "tags": []
   },
   "source": [
    "### Let's define the specific API endpoint and load credentials\n",
    "You should NOT save your passwords in Python documents. Instead it is safest to either set them as environment variables, for example in your shell profile file (e.g., in Unix/Linux/Mac include export SLED_PASSWORD=??? and export SLED_USERNAME=??? in your .bash_profile), or in an environment file."
   ]
  },
  {
   "cell_type": "code",
   "execution_count": null,
   "id": "634cd7a3-af76-4bb0-b086-76eabb903a5d",
   "metadata": {},
   "outputs": [],
   "source": [
    "urlquery = \"https://sled.amnh.org/api/upload-papers/\"\n",
    "username, password = os.getenv('SLED_USERNAME'), os.getenv('SLED_PASSWORD')\n",
    "\n",
    "if (not username) or (not password):\n",
    "    print('You have not set your SLED username and password environment variables. Please read the comments above.')"
   ]
  },
  {
   "cell_type": "markdown",
   "id": "8624f4ce",
   "metadata": {},
   "source": [
    "### **N.B. MAKE SURE THE LENSES ALREADY EXIST IN THE DATABASE, USE THE LENS SEARCH AND LENS UPLOAD SCRIPTS BEFORE ATTEMPTING TO ASSOCIATE LENSES TO PAPERS**"
   ]
  },
  {
   "cell_type": "markdown",
   "id": "37f15972",
   "metadata": {},
   "source": [
    "### Now we post the paper data to the database by sending the relevant information in a dictionary\n",
    "Use the requests package to send a POST request to the relevant API endpoint. The only paper information that is needed is the bibcode from ADS, since then we will query the paper details with this automatically.\n",
    "Then include a key \"lenses\", which is a list of dicts, each dict being a lens with the minimum following information: ra, dec, discovery (bool), classification (bool), and model (bool)."
   ]
  },
  {
   "cell_type": "code",
   "execution_count": null,
   "id": "60ba08ef-b3f2-49b0-900d-7c0b05be6c08",
   "metadata": {},
   "outputs": [],
   "source": [
    "# Prepare the data\n",
    "data = [\n",
    "    {\"bibcode\": \"2024arXiv240806217A\",\n",
    "     \"lenses\": [{\"ra\": 0.02540,\n",
    "                \"dec\": 21.641500,\n",
    "                \"discovery\": True,\n",
    "                \"classification\": False,\n",
    "                \"model\": False},\n",
    "                {\"ra\": 0.030830,\n",
    "                \"dec\": -33.683060,\n",
    "                \"discovery\": True,\n",
    "                \"classification\": False,\n",
    "                \"model\": False}]}]\n",
    "\n",
    "# Set the headers\n",
    "headers = {\n",
    "    'Content-Type': 'application/json',\n",
    "    'Accept': 'application/json',\n",
    "}\n",
    "\n",
    "# Convert data to JSON\n",
    "json_data = json.dumps(data)\n",
    "\n",
    "r = requests.post(urlquery, data=json_data, headers=headers,auth=HTTPBasicAuth(username, password))\n",
    "\n",
    "dbquery = json.loads(r.text)"
   ]
  },
  {
   "cell_type": "code",
   "execution_count": null,
   "id": "4d44c949-bc53-48f8-9d53-2281a94e5e22",
   "metadata": {},
   "outputs": [],
   "source": [
    "print(dbquery)"
   ]
  },
  {
   "cell_type": "code",
   "execution_count": null,
   "id": "6ab6c385-6d1e-4fe4-9d10-5d09d9d13287",
   "metadata": {},
   "outputs": [],
   "source": []
  }
 ],
 "metadata": {
  "kernelspec": {
   "display_name": "Python 3 (ipykernel)",
   "language": "python",
   "name": "python3"
  },
  "language_info": {
   "codemirror_mode": {
    "name": "ipython",
    "version": 3
   },
   "file_extension": ".py",
   "mimetype": "text/x-python",
   "name": "python",
   "nbconvert_exporter": "python",
   "pygments_lexer": "ipython3",
   "version": "3.9.18"
  }
 },
 "nbformat": 4,
 "nbformat_minor": 5
}
