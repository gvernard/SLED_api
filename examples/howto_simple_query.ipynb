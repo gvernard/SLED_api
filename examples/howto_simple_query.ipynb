{
 "cells": [
  {
   "cell_type": "markdown",
   "id": "3fc22a4a",
   "metadata": {},
   "source": [
    "## Simple query based on given coordinates"
   ]
  },
  {
   "cell_type": "code",
   "execution_count": null,
   "id": "8de68474",
   "metadata": {},
   "outputs": [],
   "source": [
    "import os\n",
    "import sys\n",
    "import json\n",
    "import requests\n",
    "from requests.auth import HTTPBasicAuth\n",
    "\n",
    "# Optional (if reading from a .csv file)\n",
    "import numpy as np\n",
    "\n",
    "# Optional (if coordinates not in decimal degrees)\n",
    "from astropy import units as u\n",
    "from astropy.coordinates import SkyCoord"
   ]
  },
  {
   "cell_type": "markdown",
   "id": "702b339e",
   "metadata": {
    "tags": []
   },
   "source": [
    "### 1. Let's define the specific API endpoint and load credentials\n",
    "You should NOT save your passwords in Python documents. Instead it is safest to either set them as environment variables, for example, in an open shell terminal type: <code>export SLED_USERNAME=<your_SLED_username></code> and <code>export SLED_PASSWORD=<your_SLED_password></code>. You can also include these two commands in your shell profile file (e.g. ~/.bash_profile in Unix/Linux/Mac) or in an environment file."
   ]
  },
  {
   "cell_type": "code",
   "execution_count": null,
   "id": "68a3929b",
   "metadata": {},
   "outputs": [],
   "source": [
    "username, password = os.getenv('SLED_USERNAME'), os.getenv('SLED_PASSWORD')\n",
    "if (not username) or (not password):\n",
    "    print('You have not set your SLED username and password environment variables.')"
   ]
  },
  {
   "cell_type": "markdown",
   "id": "71d4403c",
   "metadata": {},
   "source": [
    "### 2. Define a list of RA and DEC coordinates\n",
    "\n",
    "Coordinates should be in decimal degrees and in the J2000 system. To convert from ra/dec in hours-minutes/degrees-minutes, you can use the following astropy coords functionality. Here we use the lensed quasars [Q2237+0305](https://sled.amnh.org/lenses/detail/5) and [RXJ1131-1231](https://sled.amnh.org/lenses/detail/71), but one can also read a list of RA and DEC from a .csv file.\n"
   ]
  },
  {
   "cell_type": "code",
   "execution_count": null,
   "id": "54d81d93",
   "metadata": {},
   "outputs": [],
   "source": [
    "ras = [340.125800,172.964400]\n",
    "decs = [3.358550,-12.532900]\n",
    "\n",
    "## If reading from a .csv file use the following command\n",
    "#ras,decs = np.genfromtxt('random_file.csv',dtype=None,skip_header=1,usecols=[3,4],delimiter=',',encoding=None,unpack=True)\n",
    "\n",
    "\n",
    "## If the RA and DEC are not in decimal degrees then use the following loop\n",
    "#for i in range(0,len(ras)):\n",
    "#    c1 = SkyCoord(ras[i], unit=(u.hourangle, u.deg))\n",
    "#    c2 = SkyCoord(decs[i], unit=(u.hourangle, u.deg))\n",
    "#    ras[i] = c1\n",
    "#    decs[i] = c2\n",
    "\n",
    "query_pars = {\n",
    "    \"ras\": list(ras),\n",
    "    \"decs\": list(decs)\n",
    "}"
   ]
  },
  {
   "cell_type": "markdown",
   "id": "63443058",
   "metadata": {},
   "source": [
    "### 3. Now we query the database\n",
    "\n",
    "Use the requests package to send a POST request to the relevant API endpoint. The response is parsed as json and converted to a dictionary. There is no need to change the following lines.\n"
   ]
  },
  {
   "cell_type": "code",
   "execution_count": null,
   "id": "f2df93ec",
   "metadata": {},
   "outputs": [],
   "source": [
    "print(\"Querying the SLED server...\")\n",
    "r = requests.post(\"https://sled.amnh.org/api/query-lenses/\",\n",
    "                  data=json.dumps(query_pars),\n",
    "                  headers={'Content-Type':'application/json'},\n",
    "                  auth=HTTPBasicAuth(username,password)\n",
    "                  )\n",
    "dbquery = json.loads(r.text)"
   ]
  },
  {
   "cell_type": "markdown",
   "id": "481b2edd",
   "metadata": {},
   "source": [
    "### 4. Understanding the response\n",
    "\n",
    "The response is a dictionary that contains two keys:\n",
    "\n",
    "- *'existing_at'*: the indices of the RA and DEC arrays where a lens was found in SLED.\n",
    "- *'lenses'*: the corresponding lens from SLED."
   ]
  },
  {
   "cell_type": "code",
   "execution_count": null,
   "id": "78a95d7d",
   "metadata": {},
   "outputs": [],
   "source": [
    "print(\"Existing lenses: \",len(dbquery[\"lenses\"]))\n",
    "print(dbquery[\"existing_at\"])"
   ]
  }
 ],
 "metadata": {
  "kernelspec": {
   "display_name": "Python 3 (ipykernel)",
   "language": "python",
   "name": "python3"
  },
  "language_info": {
   "codemirror_mode": {
    "name": "ipython",
    "version": 3
   },
   "file_extension": ".py",
   "mimetype": "text/x-python",
   "name": "python",
   "nbconvert_exporter": "python",
   "pygments_lexer": "ipython3",
   "version": "3.9.18"
  }
 },
 "nbformat": 4,
 "nbformat_minor": 5
}
