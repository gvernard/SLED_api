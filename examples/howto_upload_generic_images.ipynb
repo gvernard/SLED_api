{
 "cells": [
  {
   "cell_type": "markdown",
   "id": "307cdf78",
   "metadata": {},
   "source": [
    "## Uploading many generic images"
   ]
  },
  {
   "cell_type": "code",
   "execution_count": null,
   "id": "4cf16fc8",
   "metadata": {},
   "outputs": [],
   "source": [
    "import os\n",
    "import sys\n",
    "import json\n",
    "import requests\n",
    "from requests.auth import HTTPBasicAuth\n",
    "import base64\n",
    "\n",
    "# Optional (if reading from a .csv file)\n",
    "import numpy as np\n",
    "\n",
    "# Optional (if coordinates not in decimal degrees)\n",
    "from astropy import units as u\n",
    "from astropy.coordinates import SkyCoord"
   ]
  },
  {
   "cell_type": "markdown",
   "id": "702b339e",
   "metadata": {
    "tags": []
   },
   "source": [
    "### 1. Let's define the specific API endpoint and load credentials\n",
    "You should NOT save your passwords in Python documents. Instead it is safest to either set them as environment variables, for example, in an open shell terminal type: <code>export SLED_USERNAME=<your_SLED_username></code> and <code>export SLED_PASSWORD=<your_SLED_password></code>. You can also include these two commands in your shell profile file (e.g. ~/.bash_profile in Unix/Linux/Mac) or in an environment file."
   ]
  },
  {
   "cell_type": "code",
   "execution_count": null,
   "id": "59cdb6d3",
   "metadata": {},
   "outputs": [],
   "source": [
    "username, password = os.getenv('SLED_USERNAME'), os.getenv('SLED_PASSWORD')\n",
    "if (not username) or (not password):\n",
    "    print('You have not set your SLED username and password environment variables.')"
   ]
  },
  {
   "cell_type": "markdown",
   "id": "92d675da",
   "metadata": {},
   "source": [
    "### 2. Define a list of generic image dictionaries\n",
    "\n",
    "All the fields associated with redshifts are described in the [SLED guide](https://sled.amnh.org/sled_guide/#object-specs-genericimage). In addition to these fields, the RA and DEC of the associated lens must be given. Coordinates should be in decimal degrees and in the J2000 system. To convert from ra/dec in hours-minutes/degrees-minutes, you can use the astropy coords functionality. The associated image can be in <code>.png, .jpg, or .jpeg</code> format. It is recommended to restrict access to the uploaded data by setting <code>'access_level'='PRI'</code> (or just omitting this field)."
   ]
  },
  {
   "cell_type": "code",
   "execution_count": null,
   "id": "e8e04057",
   "metadata": {},
   "outputs": [],
   "source": [
    "# A template generic image object. The RA and DEC are required only to match it to the correct lens.\n",
    "generic_tmp = {\n",
    "    'ra': 0.0,  # Decimal field, up to 5 decimal places, between 0 and 360\n",
    "    'dec': 0.0,  # Decimal field, up to 5 decimal places, between -90 and 90\n",
    "    'name': 'Color image from HST', # String, max length=100\n",
    "    'image': '',  # The name of the image file, this will be replaced by the actual image data further down\n",
    "    'info': 'A color composite image that I made myself with my favourite optiions', # String\n",
    "    'access_level': 'PRI'\n",
    "}\n",
    "\n",
    "\n",
    "# Here we have the RA, DEC, and an image file name as lists:\n",
    "ras = [0.1,0.2] # dummy values\n",
    "decs = [-10.1,-10.2] # dummy values\n",
    "fnames = ['generic_image_A.png','generic_image_B.png'] # dummy values\n",
    "\n",
    "## If reading from a .csv file use the following command (assuming 'instrument' and 'band' don't change):\n",
    "#ras,decs,fnames = np.genfromtxt('random_file.csv',dtype=None,skip_header=1,usecols=[0,1,3],delimiter=',',encoding=None,unpack=True)\n",
    "\n",
    "# And a path where our images are stored:\n",
    "path_to_img = 'some/dummy/path/'\n",
    "\n",
    "\n",
    "\n",
    "# We define a list of generic image objects:\n",
    "new_generics = []\n",
    "for i in range(0,len(ras)):\n",
    "    generic = generic_tmp.copy()\n",
    "\n",
    "    generic['image'] = path_to_img + fnames[i]\n",
    "    generic['ra'] = round(ras[i],5)\n",
    "    generic['dec'] = round(decs[i],5)\n",
    "    \n",
    "    ## If the RA and DEC are not in decimal degrees then use the following lines instead:\n",
    "    #c1 = SkyCoord(ras[i], unit=(u.hourangle, u.deg))\n",
    "    #c2 = SkyCoord(decs[i], unit=(u.hourangle, u.deg))\n",
    "    #generic['ra'] = round(c1,5)\n",
    "    #generic['dec'] = round(c2,5)\n",
    "    \n",
    "    if not os.path.isfile(generic['image']):\n",
    "        print(i,': NO image found with this filename: ',generic['image'])\n",
    "        sys.exit()\n",
    "    else:\n",
    "        new_generics.append(generic)\n",
    "\n",
    "        \n",
    "print('Generic images to be injected: ',len(new_generics))\n",
    "if len(new_generics)>0:\n",
    "    print('First generic image in the list looks like this: ')\n",
    "    print(new_generics[0])\n",
    "else:\n",
    "    print('No generic images to inject!')\n",
    "    sys.exit()"
   ]
  },
  {
   "cell_type": "markdown",
   "id": "183a5b91",
   "metadata": {},
   "source": [
    "### 3. Now send request to the database\n",
    "\n",
    "Use the requests package to send a POST request to the relevant API endpoint. The *'image'* field is replaced by the actual image data in base64 encoding. There is no need to change the following lines."
   ]
  },
  {
   "cell_type": "code",
   "execution_count": null,
   "id": "c3f0464a",
   "metadata": {},
   "outputs": [],
   "source": [
    "for generic in new_generics:\n",
    "    generic['image'] = image_to_base64(f\"{generic['image']}\")\n",
    "\n",
    "final_json = {\n",
    "    'data_type': 'genericimage',\n",
    "    'data': new_generics\n",
    "}\n",
    "        \n",
    "print(\"Uploading to the SLED server...\")\n",
    "r = requests.post(\"https://sled.amnh.org/api/upload-data/\",\n",
    "                  data=json.dumps(final_json),\n",
    "                  headers={'Content-Type':'application/json','User-Agent':'SLED-api/1.0'},\n",
    "                  auth=HTTPBasicAuth(username,password)\n",
    "                  )\n",
    "dbquery = json.loads(r.text)"
   ]
  },
  {
   "cell_type": "markdown",
   "id": "8154db67",
   "metadata": {},
   "source": [
    "### 4. Understanding the response\n",
    "\n",
    "There are three possible types of response from the SLED API:\n",
    "- *errors*: your uploaded sample contains errors, e.g. the RA,DEC are not in the right format, etc.\n",
    "- *further action required*: if public (PUB) data are uploaded there will be some further action required.\n",
    "- *success*: the sample of new data was uploaded successfully"
   ]
  },
  {
   "cell_type": "code",
   "execution_count": null,
   "id": "ea3096e3",
   "metadata": {},
   "outputs": [],
   "source": [
    "print(dbquery)"
   ]
  }
 ],
 "metadata": {
  "kernelspec": {
   "display_name": "Python 3 (ipykernel)",
   "language": "python",
   "name": "python3"
  },
  "language_info": {
   "codemirror_mode": {
    "name": "ipython",
    "version": 3
   },
   "file_extension": ".py",
   "mimetype": "text/x-python",
   "name": "python",
   "nbconvert_exporter": "python",
   "pygments_lexer": "ipython3",
   "version": "3.9.18"
  }
 },
 "nbformat": 4,
 "nbformat_minor": 5
}
