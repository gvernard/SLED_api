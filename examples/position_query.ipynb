{
 "cells": [
  {
   "cell_type": "code",
   "execution_count": 1,
   "id": "da61a48e-7ba9-439d-917e-4f3fd8b24227",
   "metadata": {},
   "outputs": [],
   "source": [
    "import json\n",
    "import requests\n",
    "from requests.auth import HTTPBasicAuth"
   ]
  },
  {
   "cell_type": "code",
   "execution_count": 7,
   "id": "8e119eef-96e0-41df-bd97-3ce59734f8c4",
   "metadata": {},
   "outputs": [],
   "source": [
    "## let's define the specific API function we want to call"
   ]
  },
  {
   "cell_type": "code",
   "execution_count": 3,
   "id": "634cd7a3-af76-4bb0-b086-76eabb903a5d",
   "metadata": {},
   "outputs": [],
   "source": [
    "urlquery = \"http://127.0.0.1:8000/api/query-lenses/\"\n",
    "ra, dec = 260.45419, 88.70621"
   ]
  },
  {
   "cell_type": "code",
   "execution_count": 4,
   "id": "60ba08ef-b3f2-49b0-900d-7c0b05be6c08",
   "metadata": {},
   "outputs": [],
   "source": [
    "lensdata = {'ra':ra, 'dec':dec, 'radius':10.}\n",
    "r = requests.post(urlquery, data=lensdata, auth=HTTPBasicAuth(username, password))\n",
    "dbquery = json.loads(r.text)"
   ]
  },
  {
   "cell_type": "code",
   "execution_count": null,
   "id": "4cf79e37-b2ea-40e4-a285-6291b1a561c7",
   "metadata": {},
   "outputs": [],
   "source": []
  }
 ],
 "metadata": {
  "kernelspec": {
   "display_name": "Python 3 (ipykernel)",
   "language": "python",
   "name": "python3"
  },
  "language_info": {
   "codemirror_mode": {
    "name": "ipython",
    "version": 3
   },
   "file_extension": ".py",
   "mimetype": "text/x-python",
   "name": "python",
   "nbconvert_exporter": "python",
   "pygments_lexer": "ipython3",
   "version": "3.11.9"
  }
 },
 "nbformat": 4,
 "nbformat_minor": 5
}
