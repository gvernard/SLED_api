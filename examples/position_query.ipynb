{
 "cells": [
  {
   "cell_type": "markdown",
   "id": "99d3fc80",
   "metadata": {},
   "source": [
    "## Python Notebook for a positional cone-search query of the SLED database "
   ]
  },
  {
   "cell_type": "code",
   "execution_count": 26,
   "id": "da61a48e-7ba9-439d-917e-4f3fd8b24227",
   "metadata": {},
   "outputs": [],
   "source": [
    "import os\n",
    "import json\n",
    "import requests\n",
    "from requests.auth import HTTPBasicAuth\n",
    "\n",
    "from astropy import units as u\n",
    "from astropy.coordinates import SkyCoord"
   ]
  },
  {
   "cell_type": "markdown",
   "id": "702b339e",
   "metadata": {
    "tags": []
   },
   "source": [
    "### Let's define the specific API endpoint and load credentials\n",
    "You should NOT save your passwords in Python documents. Instead it is safest to either set them as environment variables, for example in your shell profile file (e.g., in Unix/Linux/Mac include export SLED_PASSWORD=??? and export SLED_USERNAME=??? in your .bash_profile), or in an environment file."
   ]
  },
  {
   "cell_type": "code",
   "execution_count": 35,
   "id": "634cd7a3-af76-4bb0-b086-76eabb903a5d",
   "metadata": {},
   "outputs": [],
   "source": [
    "urlquery = \"http://127.0.0.1:8000/api/query-lenses/\"\n",
    "username, password = os.getenv('SLED_USERNAME'), os.getenv('SLED_PASSWORD')\n",
    "\n",
    "if (not username) or (not password):\n",
    "    print('You have not set your SLED username and password environment variables. Please read the comments above.')"
   ]
  },
  {
   "cell_type": "markdown",
   "id": "8624f4ce",
   "metadata": {},
   "source": [
    "### Define your coordinate positions and search radius for a cone-search\n",
    "Coordinates should be in decimal degrees, and in the J2000 system. To convert from ra/dec in hours-minutes/degrees-minutes, you can use the following astropy coords functionality."
   ]
  },
  {
   "cell_type": "code",
   "execution_count": 36,
   "id": "a32ee986",
   "metadata": {},
   "outputs": [],
   "source": [
    "position = '17 21 45.1 +88 42 22.0' #or '17:21:45.1 +88:42:22' or '17h21m45.1s +88d42m22s'\n",
    "c = SkyCoord(position, unit=(u.hourangle, u.deg))\n",
    "\n",
    "ra, dec = c.ra.degree, c.dec.degree"
   ]
  },
  {
   "cell_type": "code",
   "execution_count": 37,
   "id": "32bbff00",
   "metadata": {},
   "outputs": [],
   "source": [
    "radius = 10."
   ]
  },
  {
   "cell_type": "markdown",
   "id": "37f15972",
   "metadata": {},
   "source": [
    "### Now we query the database by sending the relevant information in a dictionary\n",
    "Use the requests package to send a POST request to the relevant API endpoint, and parse the response as a json, which will contain a single key 'lenses', the contents of which will be a list of dictionaries corresponding to database matches within the radius of the search position"
   ]
  },
  {
   "cell_type": "code",
   "execution_count": 38,
   "id": "60ba08ef-b3f2-49b0-900d-7c0b05be6c08",
   "metadata": {},
   "outputs": [],
   "source": [
    "lensdata = {'ra':ra, 'dec':dec, 'radius':10.}\n",
    "\n",
    "r = requests.post(urlquery, data=lensdata, auth=HTTPBasicAuth(username, password))\n",
    "\n",
    "dbquery = json.loads(r.text)"
   ]
  },
  {
   "cell_type": "code",
   "execution_count": 39,
   "id": "4cf79e37-b2ea-40e4-a285-6291b1a561c7",
   "metadata": {},
   "outputs": [],
   "source": [
    "lenses = dbquery['lenses']"
   ]
  },
  {
   "cell_type": "code",
   "execution_count": 40,
   "id": "fd5e7b07",
   "metadata": {},
   "outputs": [
    {
     "name": "stdout",
     "output_type": "stream",
     "text": [
      "Your search returned 1 SLED match(es) with the following names:\n"
     ]
    }
   ],
   "source": [
    "print('Your search returned', len(lenses), 'SLED match(es) with the following names:')"
   ]
  },
  {
   "cell_type": "code",
   "execution_count": 41,
   "id": "5362f726",
   "metadata": {
    "scrolled": true
   },
   "outputs": [
    {
     "name": "stdout",
     "output_type": "stream",
     "text": [
      "J1721+8842\n"
     ]
    }
   ],
   "source": [
    "for lens in lenses:\n",
    "    print(lens['name'])"
   ]
  },
  {
   "cell_type": "markdown",
   "id": "d141ba24",
   "metadata": {},
   "source": [
    "### Here are all the keys returned for the main lens metadata table. Please see other example documents on how to return values from the fields of other tables, such as papers"
   ]
  },
  {
   "cell_type": "code",
   "execution_count": 34,
   "id": "5f11ab96",
   "metadata": {},
   "outputs": [
    {
     "name": "stdout",
     "output_type": "stream",
     "text": [
      "id\n",
      "access_level\n",
      "ra\n",
      "dec\n",
      "name\n",
      "alt_name\n",
      "score\n",
      "image_sep\n",
      "info\n",
      "n_img\n",
      "flag\n",
      "image_conf\n",
      "lens_type\n",
      "source_type\n",
      "contaminant_type\n"
     ]
    }
   ],
   "source": [
    "if len(lenses):\n",
    "    for key in lenses[0].keys():\n",
    "        print(key)"
   ]
  }
 ],
 "metadata": {
  "kernelspec": {
   "display_name": "Python 3 (ipykernel)",
   "language": "python",
   "name": "python3"
  },
  "language_info": {
   "codemirror_mode": {
    "name": "ipython",
    "version": 3
   },
   "file_extension": ".py",
   "mimetype": "text/x-python",
   "name": "python",
   "nbconvert_exporter": "python",
   "pygments_lexer": "ipython3",
   "version": "3.7.3"
  }
 },
 "nbformat": 4,
 "nbformat_minor": 5
}
