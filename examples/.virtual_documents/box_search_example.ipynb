


import os
import json
import requests
from requests.auth import HTTPBasicAuth

from astropy import units as u
from astropy.coordinates import SkyCoord





urlquery = "http://127.0.0.1:8000/api/query-lenses-full/"
username, password = os.getenv('SLED_USERNAME'), os.getenv('SLED_PASSWORD')

if (not username) or (not password):
    print('You have not set your SLED username and password environment variables. Please read the comments above.')





#Euclid deep field
pos1 = '17 49 45.0 64 43 00.0' #or '17:21:45.1 +88:42:22' or '17h21m45.1s +88d42m22s'
pos2 = '18 01 06.0 65 56 24.0'

c1 = SkyCoord(pos1, unit=(u.hourangle, u.deg))
c2 = SkyCoord(pos2, unit=(u.hourangle, u.deg))
ra_min, dec_min = c1.ra.degree, c1.dec.degree
ra_max, dec_max = c2.ra.degree, c2.dec.degree

#COSMOS 
ra_min, ra_max = 149.4114, 150.8269
dec_min, dec_max = 1.4988, 2.9128





lensdata = {'lens-ra_min':round(ra_min, 4), 'lens-ra_max':round(ra_max, 4),
            'lens-dec_min':round(dec_min, 4), 'lens-dec_max':round(dec_max, 4),
            'download_choices-redshift':1}
#            'append_papers':1, 'append_images':1, 'append_spectra':1, 'append_redshifts':1, 'append_catalogue':1}

r = requests.post(urlquery, data=lensdata, auth=HTTPBasicAuth(username, password))
print(r.text)
dbquery = json.loads(r.text)


lenses = dbquery['lenses']


print('Your search returned', len(lenses), 'SLED match(es) with the following names:')


for lens in lenses:
    print(lens['redshift'])





if len(lenses):
    for key in lenses[0].keys():
        print(key,'=',lenses[0][key])






