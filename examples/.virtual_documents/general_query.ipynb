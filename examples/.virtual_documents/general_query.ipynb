


import os
import json
import requests
from requests.auth import HTTPBasicAuth

from astropy import units as u
from astropy.coordinates import SkyCoord





urlquery = "http://127.0.0.1:8000/api/query-lenses/"
username, password = os.getenv('SLED_USERNAME'), os.getenv('SLED_PASSWORD')

if (not username) or (not password):
    print('You have not set your SLED username and password environment variables. Please read the comments above.')





position = '17 21 45.1 +88 42 22.0' #or '17:21:45.1 +88:42:22' or '17h21m45.1s +88d42m22s'
c = SkyCoord(position, unit=(u.hourangle, u.deg))

ra, dec = c.ra.degree, c.dec.degree


radius = 10.





lensdata = {'ra':ra, 'dec':dec, 'radius':10.}

r = requests.post(urlquery, data=lensdata, auth=HTTPBasicAuth(username, password))

dbquery = json.loads(r.text)


lenses = dbquery['lenses']


print('Your search returned', len(lenses), 'SLED match(es) with the following names:')


for lens in lenses:
    print(lens['name'])





if len(lenses):
    for key in lenses[0].keys():
        print(key,'=',lenses[0][key])



