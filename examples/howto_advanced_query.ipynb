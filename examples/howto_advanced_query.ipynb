{
 "cells": [
  {
   "cell_type": "markdown",
   "id": "307cdf78",
   "metadata": {},
   "source": [
    "## Example query using some advanced features"
   ]
  },
  {
   "cell_type": "code",
   "execution_count": null,
   "id": "4cf16fc8",
   "metadata": {},
   "outputs": [],
   "source": [
    "import os\n",
    "import sys\n",
    "import json\n",
    "import requests\n",
    "from requests.auth import HTTPBasicAuth\n",
    "\n",
    "# Optional (if coordinates not in decimal degrees)\n",
    "from astropy import units as u\n",
    "from astropy.coordinates import SkyCoord"
   ]
  },
  {
   "cell_type": "markdown",
   "id": "702b339e",
   "metadata": {
    "tags": []
   },
   "source": [
    "### 1. Let's define the specific API endpoint and load credentials\n",
    "You should NOT save your passwords in Python documents. Instead it is safest to either set them as environment variables, for example, in an open shell terminal type: <code>export SLED_USERNAME=<your_SLED_username></code> and <code>export SLED_PASSWORD=<your_SLED_password></code>. You can also include these two commands in your shell profile file (e.g. ~/.bash_profile in Unix/Linux/Mac) or in an environment file."
   ]
  },
  {
   "cell_type": "code",
   "execution_count": null,
   "id": "59cdb6d3",
   "metadata": {},
   "outputs": [],
   "source": [
    "username, password = os.getenv('SLED_USERNAME'), os.getenv('SLED_PASSWORD')\n",
    "if (not username) or (not password):\n",
    "    print('You have not set your SLED username and password environment variables.')"
   ]
  },
  {
   "cell_type": "markdown",
   "id": "92d675da",
   "metadata": {},
   "source": [
    "### 2. Define the query parameters\n",
    "\n",
    "Coordinates should be in decimal degrees and in the J2000 system. To convert from ra/dec in hours-minutes/degrees-minutes, you can use the following astropy coords functionality. This example query consists of:\n",
    "- a box search on the COSMOS field,\n",
    "- confirmed lenses or contaminants,\n",
    "- and lenses with observations with the ACS instrument\n",
    "\n",
    "The data we choose to download are:\n",
    "- Lens properties: the RA, DEC, name, and mughsot images\n",
    "- Related data: redshfits"
   ]
  },
  {
   "cell_type": "code",
   "execution_count": null,
   "id": "e8e04057",
   "metadata": {},
   "outputs": [],
   "source": [
    "#COSMOS field\n",
    "ra_min, ra_max = 149.4114, 150.8269\n",
    "dec_min, dec_max = 1.4988, 2.9128\n",
    "\n",
    "## If the RA and DEC are not in decimal degrees then use the following loop\n",
    "#ra_min  = SkyCoord(ra_min, unit=(u.hourangle, u.deg))\n",
    "#ra_max  = SkyCoord(ra_max, unit=(u.hourangle, u.deg))\n",
    "#dec_min = SkyCoord(dec_min, unit=(u.hourangle, u.deg))\n",
    "#dec_max = SkyCoord(dec_max, unit=(u.hourangle, u.deg))\n",
    "\n",
    "\n",
    "query_pars = {\n",
    "    'lens-ra_min':round(ra_min, 4),\n",
    "    'lens-ra_max':round(ra_max, 4),\n",
    "    'lens-dec_min':round(dec_min, 4),\n",
    "    'lens-dec_max':round(dec_max, 4),\n",
    "    'lens-flag': [\n",
    "        'CONFIRMED',\n",
    "        'CONTAMINANT'\n",
    "    ],\n",
    "    'imaging-instrument': [\n",
    "        1,\n",
    "    ],\n",
    "    \"download-lens_options\": [\n",
    "        \"ra\",\n",
    "        \"dec\",\n",
    "        \"name\",\n",
    "        \"mugshot\"\n",
    "    ],\n",
    "    \"download-related\": [\n",
    "        \"redshift\",\n",
    "    ],\n",
    "}"
   ]
  },
  {
   "cell_type": "markdown",
   "id": "183a5b91",
   "metadata": {},
   "source": [
    "### 3. Now we query the database\n",
    "\n",
    "Use the requests package to send a POST request to the relevant API endpoint. The response is parsed as json and converted to a dictionary. There is no need to change the following lines.\n"
   ]
  },
  {
   "cell_type": "code",
   "execution_count": null,
   "id": "c3f0464a",
   "metadata": {},
   "outputs": [],
   "source": [
    "print(\"Querying the SLED server...\")\n",
    "r = requests.post(\"https://sled.amnh.org/api/query-lenses-full/\",\n",
    "                  data=json.dumps(query_pars),\n",
    "                  headers={'Content-Type':'application/json'},\n",
    "                  auth=HTTPBasicAuth(username,password)\n",
    "                  )\n",
    "dbquery = json.loads(r.text)"
   ]
  },
  {
   "cell_type": "markdown",
   "id": "8154db67",
   "metadata": {},
   "source": [
    "### 4. Understanding the response\n",
    "\n",
    "The response is a dictionary that contains two keys:\n",
    "\n",
    "- *'errors'*: any errors from the given query parameter fields\n",
    "- *'lenses'*: a list of all the corresponding lenses and the selected fields to download from SLED."
   ]
  },
  {
   "cell_type": "code",
   "execution_count": null,
   "id": "ea3096e3",
   "metadata": {},
   "outputs": [],
   "source": [
    "if len(dbquery[\"errors\"]) > 0:\n",
    "    print(dbquery[\"errors\"])\n",
    "else:        \n",
    "    print(\"Returned lenses: \",len(dbquery[\"lenses\"]))\n",
    "    print(dbquery[\"lenses\"][0])"
   ]
  }
 ],
 "metadata": {
  "kernelspec": {
   "display_name": "Python 3 (ipykernel)",
   "language": "python",
   "name": "python3"
  },
  "language_info": {
   "codemirror_mode": {
    "name": "ipython",
    "version": 3
   },
   "file_extension": ".py",
   "mimetype": "text/x-python",
   "name": "python",
   "nbconvert_exporter": "python",
   "pygments_lexer": "ipython3",
   "version": "3.9.18"
  }
 },
 "nbformat": 4,
 "nbformat_minor": 5
}
