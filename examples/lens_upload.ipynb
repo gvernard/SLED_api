{
 "cells": [
  {
   "cell_type": "markdown",
   "id": "99d3fc80",
   "metadata": {},
   "source": [
    "## Python Notebook for a paper upload to the SLED database "
   ]
  },
  {
   "cell_type": "code",
   "execution_count": 79,
   "id": "da61a48e-7ba9-439d-917e-4f3fd8b24227",
   "metadata": {},
   "outputs": [],
   "source": [
    "import os\n",
    "import json\n",
    "import base64\n",
    "import requests\n",
    "from requests.auth import HTTPBasicAuth\n",
    "\n",
    "from astropy import units as u\n",
    "from astropy.coordinates import SkyCoord"
   ]
  },
  {
   "cell_type": "markdown",
   "id": "702b339e",
   "metadata": {
    "tags": []
   },
   "source": [
    "### Let's define the specific API endpoint and load credentials\n",
    "You should NOT save your passwords in Python documents. Instead it is safest to either set them as environment variables, for example in your shell profile file (e.g., in Unix/Linux/Mac include export SLED_PASSWORD=??? and export SLED_USERNAME=??? in your .bash_profile), or in an environment file."
   ]
  },
  {
   "cell_type": "code",
   "execution_count": 73,
   "id": "634cd7a3-af76-4bb0-b086-76eabb903a5d",
   "metadata": {},
   "outputs": [],
   "source": [
    "urlquery = \"http://127.0.0.1:8000/api/upload-lenses/\"\n",
    "username, password = os.getenv('SLED_USERNAME'), os.getenv('SLED_PASSWORD')\n",
    "\n",
    "if (not username) or (not password):\n",
    "    print('You have not set your SLED username and password environment variables. Please read the comments above.')"
   ]
  },
  {
   "cell_type": "markdown",
   "id": "37f15972",
   "metadata": {},
   "source": [
    "### Now we post the lens data to the database by sending the relevant information in a dictionary\n",
    "Use the requests package to send a POST request to the relevant API endpoint. Some import notes:\n",
    "1. The minimal required fields are name, ra, dec, mugshot (please see conventions here (TO BE LINKED TO SOME NOTES SOMEWHERE...))\n",
    "2. The mugshot is required and the code below will convert the image path on your computer into a base 64 encoded image to be sent to the API endpoint"
   ]
  },
  {
   "cell_type": "code",
   "execution_count": 76,
   "id": "60ba08ef-b3f2-49b0-900d-7c0b05be6c08",
   "metadata": {},
   "outputs": [],
   "source": [
    "# Prepare the data\n",
    "#How do import from a spreadsheet file like this...\n",
    "# Prepare the data\n",
    "lenses = [\n",
    "    {\n",
    "        'ra': 49.454167,  # Decimal field, between 0 and 360\n",
    "        'dec': 42.003056,  # Decimal field, between -90 and 90\n",
    "        'name': \"Alternate Name A\",  # CharField, max_length=100\n",
    "        'alt_name': '',  # CharField, max_length=200\n",
    "        'score': 3,  # DecimalField, between 0 and 3\n",
    "        'image_sep': 1.84,  # DecimalField, between 0 and 100\n",
    "        'info': 'This is an interesting lens system.',  # TextField\n",
    "        'n_img': 4,  # IntegerField, between 2 and 20\n",
    "        'imagename': 'J031749_mugshot.png',  # The name of the image file\n",
    "        \"flag\": \"CANDIDATE\",\n",
    "        \"image_conf\": [\"QUAD\", \"FOLD\"],\n",
    "        \"lens_type\": [\"GALAXY\", \"LRG\"],\n",
    "        \"source_type\": [\"QUASAR\"],\n",
    "        \"access_level\": \"PRI\"\n",
    "    }\n",
    "]\n",
    "\n",
    "# Function to convert image to base64\n",
    "def image_to_base64(image_path):\n",
    "    with open(image_path, \"rb\") as image_file:\n",
    "        return base64.b64encode(image_file.read()).decode('utf-8')\n",
    "\n",
    "\n",
    "# Add base64 encoded images to the lenses data\n",
    "for lens in lenses:\n",
    "    lens['mugshot'] = image_to_base64(f\"{lens['imagename']}\")\n",
    "\n",
    "# Convert the data to JSON\n",
    "json_data = json.dumps(lenses)\n",
    "\n",
    "# Set the headers\n",
    "headers = { 'Content-Type': 'application/json'}\n",
    "\n",
    "r = requests.post(urlquery, data=json_data, headers=headers,auth=HTTPBasicAuth(username, password))\n",
    "\n",
    "dbquery = json.loads(r.text)"
   ]
  },
  {
   "cell_type": "code",
   "execution_count": 77,
   "id": "4d44c949-bc53-48f8-9d53-2281a94e5e22",
   "metadata": {},
   "outputs": [
    {
     "name": "stdout",
     "output_type": "stream",
     "text": [
      "{'errors': {'non_form_errors': ['No changes detected.']}}\n"
     ]
    }
   ],
   "source": [
    "print(dbquery)"
   ]
  },
  {
   "cell_type": "code",
   "execution_count": 78,
   "id": "6ab6c385-6d1e-4fe4-9d10-5d09d9d13287",
   "metadata": {},
   "outputs": [
    {
     "data": {
      "text/plain": [
       "<Response [400]>"
      ]
     },
     "execution_count": 78,
     "metadata": {},
     "output_type": "execute_result"
    }
   ],
   "source": [
    "r"
   ]
  },
  {
   "cell_type": "code",
   "execution_count": 71,
   "id": "540db253-7276-440e-b4d3-fb723b08654c",
   "metadata": {},
   "outputs": [
    {
     "data": {
      "text/plain": [
       "b'{\"errors\":{\"non_form_errors\":[\"No changes detected.\"]}}'"
      ]
     },
     "execution_count": 71,
     "metadata": {},
     "output_type": "execute_result"
    }
   ],
   "source": [
    "r.content"
   ]
  },
  {
   "cell_type": "code",
   "execution_count": null,
   "id": "f96e85b6-c63d-4136-bec4-63ea29662106",
   "metadata": {},
   "outputs": [],
   "source": []
  },
  {
   "cell_type": "code",
   "execution_count": null,
   "id": "337b691c-af07-473e-b775-648cf81e7742",
   "metadata": {},
   "outputs": [],
   "source": []
  }
 ],
 "metadata": {
  "kernelspec": {
   "display_name": "Python 3 (ipykernel)",
   "language": "python",
   "name": "python3"
  },
  "language_info": {
   "codemirror_mode": {
    "name": "ipython",
    "version": 3
   },
   "file_extension": ".py",
   "mimetype": "text/x-python",
   "name": "python",
   "nbconvert_exporter": "python",
   "pygments_lexer": "ipython3",
   "version": "3.11.5"
  }
 },
 "nbformat": 4,
 "nbformat_minor": 5
}
