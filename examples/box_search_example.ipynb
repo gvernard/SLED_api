{
 "cells": [
  {
   "cell_type": "markdown",
   "id": "99d3fc80",
   "metadata": {},
   "source": [
    "## Python Notebook for a positional cone-search query of the SLED database "
   ]
  },
  {
   "cell_type": "code",
   "execution_count": 391,
   "id": "da61a48e-7ba9-439d-917e-4f3fd8b24227",
   "metadata": {},
   "outputs": [],
   "source": [
    "import os\n",
    "import json\n",
    "import requests\n",
    "from requests.auth import HTTPBasicAuth\n",
    "\n",
    "from astropy import units as u\n",
    "from astropy.coordinates import SkyCoord"
   ]
  },
  {
   "cell_type": "markdown",
   "id": "702b339e",
   "metadata": {
    "tags": []
   },
   "source": [
    "### 1. Let's define the specific API endpoint and load credentials\n",
    "You should NOT save your passwords in Python documents. Instead it is safest to either set them as environment variables, for example in your shell profile file (e.g., in Unix/Linux/Mac include export SLED_PASSWORD=??? and export SLED_USERNAME=??? in your .bash_profile), or in an environment file."
   ]
  },
  {
   "cell_type": "code",
   "execution_count": 392,
   "id": "634cd7a3-af76-4bb0-b086-76eabb903a5d",
   "metadata": {},
   "outputs": [],
   "source": [
    "urlquery = \"http://127.0.0.1:8000/api/query-lenses-full/\"\n",
    "username, password = os.getenv('SLED_USERNAME'), os.getenv('SLED_PASSWORD')\n",
    "\n",
    "if (not username) or (not password):\n",
    "    print('You have not set your SLED username and password environment variables. Please read the comments above.')"
   ]
  },
  {
   "cell_type": "markdown",
   "id": "8624f4ce",
   "metadata": {},
   "source": [
    "### 2. Define your minimum and maximum ras and decs of your box search\n",
    "Coordinates should be in decimal degrees, and in the J2000 system. To convert from ra/dec in hours-minutes/degrees-minutes, you can use the following astropy coords functionality. Here we use the Euclid repeated field area"
   ]
  },
  {
   "cell_type": "code",
   "execution_count": 509,
   "id": "a32ee986",
   "metadata": {},
   "outputs": [],
   "source": [
    "#Euclid deep field\n",
    "pos1 = '17 49 45.0 64 43 00.0' #or '17:21:45.1 +88:42:22' or '17h21m45.1s +88d42m22s'\n",
    "pos2 = '18 01 06.0 65 56 24.0'\n",
    "\n",
    "c1 = SkyCoord(pos1, unit=(u.hourangle, u.deg))\n",
    "c2 = SkyCoord(pos2, unit=(u.hourangle, u.deg))\n",
    "ra_min, dec_min = c1.ra.degree, c1.dec.degree\n",
    "ra_max, dec_max = c2.ra.degree, c2.dec.degree\n",
    "\n",
    "#COSMOS \n",
    "ra_min, ra_max = 149.4114, 150.8269\n",
    "dec_min, dec_max = 1.4988, 2.9128"
   ]
  },
  {
   "cell_type": "markdown",
   "id": "37f15972",
   "metadata": {},
   "source": [
    "### 3. Now we query the database by sending the relevant information in a dictionary\n",
    "Use the requests package to send a POST request to the relevant API endpoint, and parse the response as a json, which will contain a single key 'lenses', the contents of which will be a list of dictionaries corresponding to database matches within the radius of the search position. We require the ra, decs to be given to maximum 7 digits precision hence the follow"
   ]
  },
  {
   "cell_type": "code",
   "execution_count": 510,
   "id": "60ba08ef-b3f2-49b0-900d-7c0b05be6c08",
   "metadata": {},
   "outputs": [],
   "source": [
    "lensdata = {'lens-ra_min':round(ra_min, 4), 'lens-ra_max':round(ra_max, 4),\n",
    "            'lens-dec_min':round(dec_min, 4), 'lens-dec_max':round(dec_max, 4),\n",
    "            'append_papers':1, 'append_images':1, 'append_spectra':1, 'append_redshifts':1}\n",
    "\n",
    "r = requests.post(urlquery, data=lensdata, auth=HTTPBasicAuth(username, password))\n",
    "\n",
    "dbquery = json.loads(r.text)"
   ]
  },
  {
   "cell_type": "code",
   "execution_count": 511,
   "id": "4cf79e37-b2ea-40e4-a285-6291b1a561c7",
   "metadata": {},
   "outputs": [],
   "source": [
    "lenses = dbquery['lenses']"
   ]
  },
  {
   "cell_type": "code",
   "execution_count": 512,
   "id": "fd5e7b07",
   "metadata": {},
   "outputs": [
    {
     "name": "stdout",
     "output_type": "stream",
     "text": [
      "Your search returned 126 SLED match(es) with the following names:\n"
     ]
    }
   ],
   "source": [
    "print('Your search returned', len(lenses), 'SLED match(es) with the following names:')"
   ]
  },
  {
   "cell_type": "code",
   "execution_count": 513,
   "id": "5362f726",
   "metadata": {
    "scrolled": true
   },
   "outputs": [
    {
     "name": "stdout",
     "output_type": "stream",
     "text": [
      "HSCJ095744+023835\n",
      "J095748+015523\n",
      "HSCJ095750.10+014507.5\n",
      "J095750+015618\n",
      "J095752+022057\n",
      "J095754+015952\n",
      "J095757+014412\n",
      "J095758+021524\n",
      "J095805+020413\n",
      "J095806+015809\n",
      "J095810+022942\n",
      "J095810+013650\n",
      "SDSSJ0958+0135\n",
      "J095826+024835\n",
      "J095829+024359\n",
      "J095829+013733\n",
      "J095830+022117\n",
      "J095831+014332\n",
      "J095831+015256\n",
      "J095834+020807\n",
      "J095841+024645\n",
      "095850+023052\n",
      "J095853+022543\n",
      "J095855+020850\n",
      "J095856+024754\n",
      "J095857+015948\n",
      "SL2SJ095907+020450\n",
      "J095914+021219\n",
      "J095921+020638\n",
      "J095925+023903\n",
      "J095925+020643\n",
      "J095928+014552\n",
      "COSMOSJ095930.94+023427.7\n",
      "J095931+020229\n",
      "J095931+021018\n",
      "J095934+020633\n",
      "J095936+023620\n",
      "SA78\n",
      "J095940+023253\n",
      "SA79\n",
      "J095943+022815\n",
      "HSCJ095943.44+022213.4\n",
      "HSCJ095943+022046\n",
      "J095947+024752\n",
      "J095950+022057\n",
      "J095952+023356\n",
      "SA80\n",
      "J095959+020347\n",
      "SL2SJ100009+022455\n",
      "SL2SJ100012+022015\n",
      "SL2SJ100013+022249\n",
      "J100015+023620\n",
      "J100015+014619\n",
      "SL2SJ100018+023845\n",
      "J1000+0221\n",
      "J100020+022150\n",
      "J100020+021751\n",
      "J100021+015609\n",
      "J100022+021801\n",
      "WFC3J100023.53+021653.34\n",
      "J100024+024211\n",
      "J100024+025039\n",
      "J100025+022558\n",
      "J100028+021600\n",
      "HAHJ1000+0237\n",
      "J100033+022752\n",
      "J100038+024133\n",
      "J100043+014253\n",
      "J100047+022930\n",
      "J100047+015022\n",
      "J1000+0139\n",
      "J100049+015128\n",
      "J100050+013251\n",
      "J100050+024900\n",
      "J100050+020356\n",
      "J100052+023934\n",
      "J100055+013821\n",
      "SL2SJ100056+021226\n",
      "J100100+024550\n",
      "J100102+021235\n",
      "J100105+024530\n",
      "100108+024029\n",
      "J100116+023153\n",
      "J100119+024018\n",
      "J100120+014551\n",
      "J100124+015120\n",
      "COSMOSJ100126.02+013714.5\n",
      "HSCJ100129+024427\n",
      "J1001+0219\n",
      "SA81\n",
      "J1001+0233\n",
      "J100138+021831\n",
      "COSMOSJ100140.12+020040.9\n",
      "SDSSJ1001+0156\n",
      "J100141+015904\n",
      "100141+020444\n",
      "HAHJ1001+0214\n",
      "HAHJ1001+0154\n",
      "J100145+014517\n",
      "J100146+025052\n",
      "SA82\n",
      "SL2SJ100148+022325\n",
      "CXCOJ100201.50+020330.0\n",
      "J100207+023415\n",
      "SL2SJ100208+021422\n",
      "SL2SJ100211+021139\n",
      "SA84\n",
      "J100211+024558\n",
      "J100211+020827\n",
      "SA85\n",
      "SL2SJ100216+022955\n",
      "J100217+023023\n",
      "100220+022335\n",
      "SL2SJ100221+023440\n",
      "HAHJ1002+0232\n",
      "J100227+020450\n",
      "J100229+023225\n",
      "J100234+024832\n",
      "J100235+015025\n",
      "J100236+024806\n",
      "J100237+022652\n",
      "J100240+020528\n",
      "J100246+023252\n",
      "J100254+021430\n",
      "J100259+023957\n",
      "HSCJ100307+020241\n"
     ]
    }
   ],
   "source": [
    "for lens in lenses:\n",
    "    print(lens['name'])"
   ]
  },
  {
   "cell_type": "markdown",
   "id": "d141ba24",
   "metadata": {},
   "source": [
    "### 4. Here are all the keys returned for the main lens metadata table. Please see other example documents on how to return values from the fields of other tables"
   ]
  },
  {
   "cell_type": "code",
   "execution_count": 514,
   "id": "5f11ab96",
   "metadata": {},
   "outputs": [
    {
     "name": "stdout",
     "output_type": "stream",
     "text": [
      "id = 10084\n",
      "created_at = 2024-03-14T01:40:00.478516Z\n",
      "modified_at = 2024-03-14T01:40:00.504067Z\n",
      "access_level = PUB\n",
      "ra = 149.43571\n",
      "dec = 2.64332\n",
      "name = HSCJ095744+023835\n",
      "alt_name = None\n",
      "score = 1.0\n",
      "image_sep = None\n",
      "info = \n",
      "n_img = None\n",
      "flag = CANDIDATE\n",
      "image_conf = []\n",
      "lens_type = ['GALAXY']\n",
      "source_type = ['QUASAR']\n",
      "contaminant_type = []\n",
      "redshifts = []\n",
      "papers = [{'ads_id': 20838736, 'bibcode': '2021A&A...655A.114C', 'year': 2021, 'first_author': 'Chao, Dani C. -Y.', 'title': 'Strongly lensed candidates from the HSC transient survey', 'cite_as': 'Chao, Dani C. -Y. et al. (2021)'}]\n",
      "images = [{'id': 27903, 'owner': 4, 'access_level': 'PUB', 'instrument': 'Pan-STARRS1', 'date_taken': '2013-01-09', 'exists': True, 'future': False, 'info': 'stack', 'exposure_time': 1298.0, 'pixel_size': 0.25, 'band': 'i', 'url': ''}, {'id': 29560, 'owner': 4, 'access_level': 'PUB', 'instrument': 'Pan-STARRS1', 'date_taken': '2012-05-15', 'exists': True, 'future': False, 'info': 'stack', 'exposure_time': 556.0, 'pixel_size': 0.25, 'band': 'z', 'url': ''}, {'id': 38631, 'owner': 4, 'access_level': 'PUB', 'instrument': 'Pan-STARRS1', 'date_taken': '2012-05-05', 'exists': True, 'future': False, 'info': 'stack', 'exposure_time': 590.0, 'pixel_size': 0.25, 'band': 'Y', 'url': ''}, {'id': 43806, 'owner': 4, 'access_level': 'PUB', 'instrument': 'Pan-STARRS1', 'date_taken': '2012-01-24', 'exists': True, 'future': False, 'info': 'stack', 'exposure_time': 2004.0, 'pixel_size': 0.25, 'band': 'r', 'url': ''}, {'id': 57103, 'owner': 4, 'access_level': 'PUB', 'instrument': 'Pan-STARRS1', 'date_taken': '2011-01-16', 'exists': True, 'future': False, 'info': 'stack', 'exposure_time': 1994.0, 'pixel_size': 0.25, 'band': 'g', 'url': ''}, {'id': 81307, 'owner': 4, 'access_level': 'PUB', 'instrument': 'Legacy Survey (DR10)', 'date_taken': '1858-11-17', 'exists': True, 'future': False, 'info': 'stack', 'exposure_time': 1.0, 'pixel_size': 0.262, 'band': 'g', 'url': ''}, {'id': 99213, 'owner': 4, 'access_level': 'PUB', 'instrument': 'Legacy Survey (DR10)', 'date_taken': '1858-11-17', 'exists': True, 'future': False, 'info': 'stack', 'exposure_time': 1.0, 'pixel_size': 0.262, 'band': 'z', 'url': ''}, {'id': 128764, 'owner': 4, 'access_level': 'PUB', 'instrument': 'Legacy Survey (DR10)', 'date_taken': '1858-11-17', 'exists': True, 'future': False, 'info': 'stack', 'exposure_time': 1.0, 'pixel_size': 0.262, 'band': 'r', 'url': ''}]\n",
      "spectra = [{'id': 14555, 'owner': 4, 'access_level': 'PUB', 'instrument': 'SDSS-spec', 'date_taken': '1858-11-17', 'exists': False, 'future': False, 'info': '', 'lambda_min': None, 'lambda_max': None, 'exposure_time': None, 'resolution': None}]\n"
     ]
    }
   ],
   "source": [
    "if len(lenses):\n",
    "    for key in lenses[0].keys():\n",
    "        print(key,'=',lenses[0][key])"
   ]
  },
  {
   "cell_type": "code",
   "execution_count": null,
   "id": "c64f33d6-75f1-4365-bba6-b094e1293fc3",
   "metadata": {},
   "outputs": [],
   "source": []
  }
 ],
 "metadata": {
  "kernelspec": {
   "display_name": "Python 3 (ipykernel)",
   "language": "python",
   "name": "python3"
  },
  "language_info": {
   "codemirror_mode": {
    "name": "ipython",
    "version": 3
   },
   "file_extension": ".py",
   "mimetype": "text/x-python",
   "name": "python",
   "nbconvert_exporter": "python",
   "pygments_lexer": "ipython3",
   "version": "3.11.5"
  }
 },
 "nbformat": 4,
 "nbformat_minor": 5
}
