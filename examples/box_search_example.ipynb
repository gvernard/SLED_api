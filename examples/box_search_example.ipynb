{
 "cells": [
  {
   "cell_type": "markdown",
   "id": "99d3fc80",
   "metadata": {},
   "source": [
    "## Python Notebook for a positional cone-search query of the SLED database "
   ]
  },
  {
   "cell_type": "code",
   "execution_count": 1,
   "id": "da61a48e-7ba9-439d-917e-4f3fd8b24227",
   "metadata": {},
   "outputs": [],
   "source": [
    "import os\n",
    "import json\n",
    "import requests\n",
    "from requests.auth import HTTPBasicAuth\n",
    "\n",
    "from astropy import units as u\n",
    "from astropy.coordinates import SkyCoord"
   ]
  },
  {
   "cell_type": "markdown",
   "id": "702b339e",
   "metadata": {
    "tags": []
   },
   "source": [
    "### 1. Let's define the specific API endpoint and load credentials\n",
    "You should NOT save your passwords in Python documents. Instead it is safest to either set them as environment variables, for example in your shell profile file (e.g., in Unix/Linux/Mac include export SLED_PASSWORD=??? and export SLED_USERNAME=??? in your .bash_profile), or in an environment file."
   ]
  },
  {
   "cell_type": "code",
   "execution_count": 8,
   "id": "634cd7a3-af76-4bb0-b086-76eabb903a5d",
   "metadata": {},
   "outputs": [],
   "source": [
    "urlquery = \"https://sled.amnh.org/api/query-lenses-full/\"\n",
    "username, password = os.getenv('SLED_USERNAME'), os.getenv('SLED_PASSWORD')\n",
    "\n",
    "if (not username) or (not password):\n",
    "    print('You have not set your SLED username and password environment variables. Please read the comments above.')"
   ]
  },
  {
   "cell_type": "markdown",
   "id": "8624f4ce",
   "metadata": {},
   "source": [
    "### 2. Define your minimum and maximum ras and decs of your box search\n",
    "Coordinates should be in decimal degrees, and in the J2000 system. To convert from ra/dec in hours-minutes/degrees-minutes, you can use the following astropy coords functionality. Here we use the Euclid repeated field area and COSMOS"
   ]
  },
  {
   "cell_type": "code",
   "execution_count": 9,
   "id": "a32ee986",
   "metadata": {},
   "outputs": [],
   "source": [
    "#Euclid deep field\n",
    "pos1 = '17 49 45.0 64 43 00.0' #or '17:21:45.1 +88:42:22' or '17h21m45.1s +88d42m22s'\n",
    "pos2 = '18 01 06.0 65 56 24.0'\n",
    "\n",
    "c1 = SkyCoord(pos1, unit=(u.hourangle, u.deg))\n",
    "c2 = SkyCoord(pos2, unit=(u.hourangle, u.deg))\n",
    "ra_min, dec_min = c1.ra.degree, c1.dec.degree\n",
    "ra_max, dec_max = c2.ra.degree, c2.dec.degree\n",
    "\n",
    "#COSMOS \n",
    "ra_min, ra_max = 149.4114, 150.8269\n",
    "dec_min, dec_max = 1.4988, 2.9128"
   ]
  },
  {
   "cell_type": "markdown",
   "id": "37f15972",
   "metadata": {},
   "source": [
    "### 3. Now we query the database by sending the relevant information in a dictionary\n",
    "Use the requests package to send a POST request to the relevant API endpoint, and parse the response as a json, which will contain a single key 'lenses', the contents of which will be a list of dictionaries corresponding to database matches within the radius of the search position. We require the ra, decs to be given to maximum 7 digits precision hence the follow"
   ]
  },
  {
   "cell_type": "code",
   "execution_count": 15,
   "id": "60ba08ef-b3f2-49b0-900d-7c0b05be6c08",
   "metadata": {},
   "outputs": [
    {
     "name": "stdout",
     "output_type": "stream",
     "text": [
      "{\"lenses\":[{\"ra\":\"149.435710\",\"dec\":\"2.643320\",\"name\":\"HSCJ095744+023835\",\"alt_name\":null,\"flag\":\"CANDIDATE\",\"score\":\"1.0000\",\"image_sep\":null,\"info\":\"\",\"n_img\":null,\"image_conf\":[],\"lens_type\":[\"GALAXY\"],\"source_type\":[\"QUASAR\"],\"contaminant_type\":[],\"mugshot\":\"https://example.com/files/lenses/10084.png\",\"redshift\":[]},{\"ra\":\"149.450000\",\"dec\":\"1.923330\",\"name\":\"J095748+015523\",\"alt_name\":null,\"flag\":\"CANDIDATE\",\"score\":\"3.0000\",\"image_sep\":\"4.4200\",\"info\":\"\",\"n_img\":null,\"image_conf\":[],\"lens_type\":[\"GALAXY\"],\"source_type\":[],\"contaminant_type\":[],\"mugshot\":\"https://example.com/files/lenses/3193.png\",\"redshift\":[]},{\"ra\":\"149.458730\",\"dec\":\"1.752080\",\"name\":\"HSCJ095750.10+014507.5\",\"alt_name\":null,\"flag\":\"CANDIDATE\",\"score\":\"1.0200\",\"image_sep\":null,\"info\":\"\",\"n_img\":null,\"image_conf\":[],\"lens_type\":[\"GALAXY\"],\"source_type\":[],\"contaminant_type\":[],\"mugshot\":\"https://example.com/files/lenses/3249.png\",\"redshift\":[{\"value\":\"0.5740\",\"dvalue_min\":null,\"dvalue_max\":null,\"tag\":\"LENS\",\"method\":\"SPECTRO\",\"info\":null},{\"value\":\"0.5738\",\"dvalue_min\":null,\"dvalue_max\":null,\"tag\":\"LENS\",\"method\":\"SPECTRO\",\"info\":null}]},{\"ra\":\"149.461250\",\"dec\":\"1.938610\",\"name\":\"J095750+015618\",\"alt_name\":null,\"flag\":\"CANDIDATE\",\"score\":\"2.0000\",\"image_sep\":\"1.4600\",\"info\":\"\",\"n_img\":null,\"image_conf\":[],\"lens_type\":[\"GALAXY\"],\"source_type\":[],\"contaminant_type\":[],\"mugshot\":\"https://example.com/files/lenses/3194.png\",\"redshift\":[]},{\"ra\":\"149.467080\",\"dec\":\"2.349170\",\"name\":\"J095752+022057\",\"alt_name\":null,\"flag\":\"CANDIDATE\",\"score\":\"2.0000\",\"image_sep\":\"1.9600\",\"info\":\"\",\"n_img\":null,\"image_conf\":[],\"lens_type\":[\"GALAXY\"],\"source_type\":[],\"contaminant_type\":[],\"mugshot\":\"https://example.com/files/lenses/3195.png\",\"redshift\":[]},{\"ra\":\"149.475420\",\"dec\":\"1.997780\",\"name\":\"J095754+015952\",\"alt_name\":null,\"flag\":\"CANDIDATE\",\"score\":\"2.0000\",\"image_sep\":\"2.6600\",\"info\":\"\",\"n_img\":null,\"image_conf\":[],\"lens_type\":[\"GALAXY\"],\"source_type\":[],\"contaminant_type\":[],\"mugshot\":\"https://example.com/files/lenses/3196.png\",\"redshift\":[]},{\"ra\":\"149.489740\",\"dec\":\"1.736720\",\"name\":\"J095757+014412\",\"alt_name\":null,\"flag\":\"CANDIDATE\",\"score\":\"1.0000\",\"image_sep\":\"2.1600\",\"info\":\"\",\"n_img\":null,\"image_conf\":[],\"lens_type\":[\"GALAXY\"],\"source_type\":[],\"contaminant_type\":[],\"mugshot\":\"https://example.com/files/lenses/3136.png\",\"redshift\":[]},{\"ra\":\"149.494170\",\"dec\":\"2.256940\",\"name\":\"J095758+021524\",\"alt_name\":null,\"flag\":\"CANDIDATE\",\"score\":\"2.0000\",\"image_sep\":\"0.7000\",\"info\":\"\",\"n_img\":null,\"image_conf\":[],\"lens_type\":[\"GALAXY\"],\"source_type\":[],\"contaminant_type\":[],\"mugshot\":\"https://example.com/files/lenses/3183.png\",\"redshift\":[]},{\"ra\":\"149.523330\",\"dec\":\"2.070280\",\"name\":\"J095805+020413\",\"alt_name\":null,\"flag\":\"CANDIDATE\",\"score\":\"2.0000\",\"image_sep\":\"3.2200\",\"info\":\"\",\"n_img\":null,\"image_conf\":[],\"lens_type\":[\"GALAXY\"],\"source_type\":[],\"contaminant_type\":[],\"mugshot\":\"https://example.com/files/lenses/3197.png\",\"redshift\":[]},{\"ra\":\"149.528330\",\"dec\":\"1.969170\",\"name\":\"J095806+015809\",\"alt_name\":null,\"flag\":\"CANDIDATE\",\"score\":\"2.0000\",\"image_sep\":\"3.0000\",\"info\":\"\",\"n_img\":null,\"image_conf\":[],\"lens_type\":[\"GALAXY\"],\"source_type\":[],\"contaminant_type\":[],\"mugshot\":\"https://example.com/files/lenses/3198.png\",\"redshift\":[]},{\"ra\":\"149.542120\",\"dec\":\"2.495010\",\"name\":\"J095810+022942\",\"alt_name\":null,\"flag\":\"CONFIRMED\",\"score\":\"1.0000\",\"image_sep\":\"4.4600\",\"info\":\"\",\"n_img\":null,\"image_conf\":[],\"lens_type\":[\"GALAXY\"],\"source_type\":[\"GALAXY\"],\"contaminant_type\":[],\"mugshot\":\"https://example.com/files/lenses/3163.png\",\"redshift\":[{\"value\":\"0.4000\",\"dvalue_min\":null,\"dvalue_max\":null,\"tag\":\"LENS\",\"method\":\"PHOTO\",\"info\":null}]},{\"ra\":\"149.545320\",\"dec\":\"1.614160\",\"name\":\"J095810+013650\",\"alt_name\":null,\"flag\":\"CANDIDATE\",\"score\":\"2.0000\",\"image_sep\":\"3.6400\",\"info\":\"\",\"n_img\":null,\"image_conf\":[],\"lens_type\":[\"GALAXY\"],\"source_type\":[],\"contaminant_type\":[],\"mugshot\":\"https://example.com/files/lenses/3132.png\",\"redshift\":[]},{\"ra\":\"149.593810\",\"dec\":\"1.584710\",\"name\":\"SDSSJ0958+0135\",\"alt_name\":null,\"flag\":\"CONTAMINANT\",\"score\":null,\"image_sep\":null,\"info\":\"Detections highly assure a background galaxy. Candidate upper ER is sufficiently smaller than about an arcsecond. Candidate background is visible in low-resolution images. Quality issue spotted in overal target image and DAP data, which significantly challenges related upper ER measurement.\",\"n_img\":null,\"image_conf\":[],\"lens_type\":[\"GALAXY\"],\"source_type\":[\"GALAXY\"],\"contaminant_type\":[],\"mugshot\":\"https://example.com/files/lenses/15357.png\",\"redshift\":[{\"value\":\"0.3092\",\"dvalue_min\":null,\"dvalue_max\":null,\"tag\":\"SOURCE\",\"method\":\"SPECTRO\",\"info\":null},{\"value\":\"0.0278\",\"dvalue_min\":null,\"dvalue_max\":null,\"tag\":\"LENS\",\"method\":\"SPECTRO\",\"info\":null}]},{\"ra\":\"149.611770\",\"dec\":\"2.809780\",\"name\":\"J095826+024835\",\"alt_name\":null,\"flag\":\"CANDIDATE\",\"score\":\"2.0000\",\"image_sep\":\"4.4200\",\"info\":\"\",\"n_img\":null,\"image_conf\":[],\"lens_type\":[\"GALAXY\"],\"source_type\":[],\"contaminant_type\":[],\"mugshot\":\"https://example.com/files/lenses/3175.png\",\"redshift\":[]},{\"ra\":\"149.621850\",\"dec\":\"2.733150\",\"name\":\"J095829+024359\",\"alt_name\":null,\"flag\":\"CANDIDATE\",\"score\":\"2.0000\",\"image_sep\":\"4.6600\",\"info\":\"\",\"n_img\":null,\"image_conf\":[],\"lens_type\":[\"GALAXY\"],\"source_type\":[],\"contaminant_type\":[],\"mugshot\":\"https://example.com/files/lenses/3171.png\",\"redshift\":[]},{\"ra\":\"149.624580\",\"dec\":\"1.626110\",\"name\":\"J095829+013733\",\"alt_name\":null,\"flag\":\"CANDIDATE\",\"score\":\"2.0000\",\"image_sep\":\"5.9400\",\"info\":\"\",\"n_img\":null,\"image_conf\":[],\"lens_type\":[\"GALAXY\"],\"source_type\":[],\"contaminant_type\":[],\"mugshot\":\"https://example.com/files/lenses/3199.png\",\"redshift\":[]},{\"ra\":\"149.628310\",\"dec\":\"2.354860\",\"name\":\"J095830+022117\",\"alt_name\":null,\"flag\":\"CANDIDATE\",\"score\":\"2.0000\",\"image_sep\":\"1.7600\",\"info\":\"\",\"n_img\":null,\"image_conf\":[],\"lens_type\":[\"GALAXY\"],\"source_type\":[],\"contaminant_type\":[],\"mugshot\":\"https://example.com/files/lenses/3155.png\",\"redshift\":[]},{\"ra\":\"149.629170\",\"dec\":\"1.725560\",\"name\":\"J095831+014332\",\"alt_name\":null,\"flag\":\"CANDIDATE\",\"score\":\"3.0000\",\"image_sep\":\"2.3400\",\"info\":\"\",\"n_img\":null,\"image_conf\":[],\"lens_type\":[\"GALAXY\"],\"source_type\":[],\"contaminant_type\":[],\"mugshot\":\"https://example.com/files/lenses/3200.png\",\"redshift\":[]},{\"ra\":\"149.632090\",\"dec\":\"1.882370\",\"name\":\"J095831+015256\",\"alt_name\":null,\"flag\":\"CANDIDATE\",\"score\":\"2.0000\",\"image_sep\":\"4.7600\",\"info\":\"\",\"n_img\":null,\"image_conf\":[],\"lens_type\":[\"GALAXY\"],\"source_type\":[],\"contaminant_type\":[],\"mugshot\":\"https://example.com/files/lenses/3139.png\",\"redshift\":[]},{\"ra\":\"149.644850\",\"dec\":\"2.135520\",\"name\":\"J095834+020807\",\"alt_name\":null,\"flag\":\"CANDIDATE\",\"score\":\"2.0000\",\"image_sep\":\"3.4800\",\"info\":\"\",\"n_img\":null,\"image_conf\":[],\"lens_type\":[\"GALAXY\"],\"source_type\":[],\"contaminant_type\":[],\"mugshot\":\"https://example.com/files/lenses/3147.png\",\"redshift\":[]},{\"ra\":\"149.672500\",\"dec\":\"2.779440\",\"name\":\"J095841+024645\",\"alt_name\":null,\"flag\":\"CANDIDATE\",\"score\":\"2.0000\",\"image_sep\":\"1.8600\",\"info\":\"\",\"n_img\":null,\"image_conf\":[],\"lens_type\":[\"GALAXY\"],\"source_type\":[],\"contaminant_type\":[],\"mugshot\":\"https://example.com/files/lenses/3201.png\",\"redshift\":[]},{\"ra\":\"149.709100\",\"dec\":\"2.514700\",\"name\":\"095850+023052\",\"alt_name\":null,\"flag\":\"CONTAMINANT\",\"score\":\"0.0000\",\"image_sep\":null,\"info\":\"\",\"n_img\":null,\"image_conf\":[],\"lens_type\":[],\"source_type\":[],\"contaminant_type\":[],\"mugshot\":\"https://example.com/files/lenses/1720.png\",\"redshift\":[{\"value\":\"0.4720\",\"dvalue_min\":null,\"dvalue_max\":null,\"tag\":\"LENS\",\"method\":\"PHOTO\",\"info\":null}]},{\"ra\":\"149.722720\",\"dec\":\"2.428630\",\"name\":\"J095853+022543\",\"alt_name\":null,\"flag\":\"CANDIDATE\",\"score\":\"1.0000\",\"image_sep\":\"2.3800\",\"info\":\"\",\"n_img\":null,\"image_conf\":[],\"lens_type\":[\"GALAXY\"],\"source_type\":[],\"contaminant_type\":[],\"mugshot\":\"https://example.com/files/lenses/3156.png\",\"redshift\":[]},{\"ra\":\"149.730720\",\"dec\":\"2.147260\",\"name\":\"J095855+020850\",\"alt_name\":null,\"flag\":\"CANDIDATE\",\"score\":\"2.0000\",\"image_sep\":\"3.6400\",\"info\":\"\",\"n_img\":null,\"image_conf\":[],\"lens_type\":[\"GALAXY\"],\"source_type\":[],\"contaminant_type\":[],\"mugshot\":\"https://example.com/files/lenses/3146.png\",\"redshift\":[]},{\"ra\":\"149.733750\",\"dec\":\"2.798610\",\"name\":\"J095856+024754\",\"alt_name\":null,\"flag\":\"CANDIDATE\",\"score\":\"1.0000\",\"image_sep\":\"5.9400\",\"info\":\"\",\"n_img\":null,\"image_conf\":[],\"lens_type\":[\"GALAXY\"],\"source_type\":[],\"contaminant_type\":[],\"mugshot\":\"https://example.com/files/lenses/3202.png\",\"redshift\":[]},{\"ra\":\"149.737500\",\"dec\":\"1.996940\",\"name\":\"J095857+015948\",\"alt_name\":null,\"flag\":\"CANDIDATE\",\"score\":\"1.0000\",\"image_sep\":\"4.3000\",\"info\":\"\",\"n_img\":null,\"image_conf\":[],\"lens_type\":[\"GALAXY\"],\"source_type\":[],\"contaminant_type\":[],\"mugshot\":\"https://example.com/files/lenses/3184.png\",\"redshift\":[]},{\"ra\":\"149.782370\",\"dec\":\"2.080640\",\"name\":\"SL2SJ095907+020450\",\"alt_name\":null,\"flag\":\"CANDIDATE\",\"score\":\"2.5000\",\"image_sep\":\"0.4400\",\"info\":\"\",\"n_img\":null,\"image_conf\":[],\"lens_type\":[\"GALAXY\"],\"source_type\":[],\"contaminant_type\":[],\"mugshot\":\"https://example.com/files/lenses/873.png\",\"redshift\":[{\"value\":\"0.0700\",\"dvalue_min\":\"0.0600\",\"dvalue_max\":\"0.0600\",\"tag\":\"LENS\",\"method\":\"PHOTO\",\"info\":null}]},{\"ra\":\"149.811250\",\"dec\":\"2.205280\",\"name\":\"J095914+021219\",\"alt_name\":null,\"flag\":\"CANDIDATE\",\"score\":\"1.0000\",\"image_sep\":\"3.7200\",\"info\":\"\",\"n_img\":null,\"image_conf\":[],\"lens_type\":[\"GALAXY\"],\"source_type\":[],\"contaminant_type\":[],\"mugshot\":\"https://example.com/files/lenses/3185.png\",\"redshift\":[]},{\"ra\":\"149.840700\",\"dec\":\"2.110670\",\"name\":\"J095921+020638\",\"alt_name\":\"095921+020638, J095921+020638\",\"flag\":\"CONFIRMED\",\"score\":\"3.0000\",\"image_sep\":\"1.3800\",\"info\":\"/ Selection:–; see also:Anguita et al. (2009) / Anguita et al. (2009)\",\"n_img\":null,\"image_conf\":[],\"lens_type\":[\"GALAXY\"],\"source_type\":[\"GALAXY\",\"QUASAR\"],\"contaminant_type\":[],\"mugshot\":\"https://example.com/files/lenses/1375.png\",\"redshift\":[{\"value\":\"0.5800\",\"dvalue_min\":null,\"dvalue_max\":null,\"tag\":\"LENS\",\"method\":\"PHOTO\",\"info\":null},{\"value\":\"0.5520\",\"dvalue_min\":null,\"dvalue_max\":null,\"tag\":\"LENS\",\"method\":\"SPECTRO\",\"info\":null},{\"value\":\"0.5520\",\"dvalue_min\":null,\"dvalue_max\":null,\"tag\":\"LENS\",\"method\":\"SPECTRO\",\"info\":null},{\"value\":\"3.3500\",\"dvalue_min\":null,\"dvalue_max\":null,\"tag\":\"SOURCE\",\"method\":\"SPECTRO\",\"info\":null}]},{\"ra\":\"149.855930\",\"dec\":\"2.650950\",\"name\":\"J095925+023903\",\"alt_name\":null,\"flag\":\"CANDIDATE\",\"score\":\"2.0000\",\"image_sep\":\"1.7400\",\"info\":\"\",\"n_img\":null,\"image_conf\":[],\"lens_type\":[\"GALAXY\"],\"source_type\":[],\"contaminant_type\":[],\"mugshot\":\"https://example.com/files/lenses/3170.png\",\"redshift\":[]},{\"ra\":\"149.856180\",\"dec\":\"2.112120\",\"name\":\"J095925+020643\",\"alt_name\":null,\"flag\":\"CANDIDATE\",\"score\":\"2.0000\",\"image_sep\":\"4.6600\",\"info\":\"\",\"n_img\":null,\"image_conf\":[],\"lens_type\":[\"GALAXY\"],\"source_type\":[],\"contaminant_type\":[],\"mugshot\":\"https://example.com/files/lenses/3142.png\",\"redshift\":[]},{\"ra\":\"149.870830\",\"dec\":\"1.764720\",\"name\":\"J095928+014552\",\"alt_name\":null,\"flag\":\"CANDIDATE\",\"score\":\"2.0000\",\"image_sep\":\"3.1200\",\"info\":\"\",\"n_img\":null,\"image_conf\":[],\"lens_type\":[\"GALAXY\"],\"source_type\":[],\"contaminant_type\":[],\"mugshot\":\"https://example.com/files/lenses/3203.png\",\"redshift\":[]},{\"ra\":\"149.878900\",\"dec\":\"2.574400\",\"name\":\"COSMOSJ095930.94+023427.7\",\"alt_name\":null,\"flag\":\"CONFIRMED\",\"score\":\"3.0000\",\"image_sep\":\"1.9400\",\"info\":\"\",\"n_img\":null,\"image_conf\":[],\"lens_type\":[\"GALAXY\"],\"source_type\":[\"GALAXY\"],\"contaminant_type\":[],\"mugshot\":\"https://example.com/files/lenses/842.png\",\"redshift\":[{\"value\":\"1.1300\",\"dvalue_min\":null,\"dvalue_max\":null,\"tag\":\"LENS\",\"method\":\"PHOTO\",\"info\":null},{\"value\":\"0.8900\",\"dvalue_min\":null,\"dvalue_max\":null,\"tag\":\"LENS\",\"method\":\"SPECTRO\",\"info\":null},{\"value\":\"1.2100\",\"dvalue_min\":null,\"dvalue_max\":null,\"tag\":\"LENS\",\"method\":\"PHOTO\",\"info\":null}]},{\"ra\":\"149.879580\",\"dec\":\"2.041390\",\"name\":\"J095931+020229\",\"alt_name\":null,\"flag\":\"CANDIDATE\",\"score\":\"2.0000\",\"image_sep\":\"2.9600\",\"info\":\"\",\"n_img\":null,\"image_conf\":[],\"lens_type\":[\"GALAXY\"],\"source_type\":[],\"contaminant_type\":[],\"mugshot\":\"https://example.com/files/lenses/3204.png\",\"redshift\":[]},{\"ra\":\"149.883330\",\"dec\":\"2.171670\",\"name\":\"J095931+021018\",\"alt_name\":null,\"flag\":\"CANDIDATE\",\"score\":\"2.0000\",\"image_sep\":\"1.3600\",\"info\":\"\",\"n_img\":null,\"image_conf\":[],\"lens_type\":[\"GALAXY\"],\"source_type\":[],\"contaminant_type\":[],\"mugshot\":\"https://example.com/files/lenses/3205.png\",\"redshift\":[]},{\"ra\":\"149.894800\",\"dec\":\"2.109360\",\"name\":\"J095934+020633\",\"alt_name\":null,\"flag\":\"CANDIDATE\",\"score\":\"2.0000\",\"image_sep\":\"1.4400\",\"info\":\"\",\"n_img\":null,\"image_conf\":[],\"lens_type\":[\"GALAXY\"],\"source_type\":[],\"contaminant_type\":[],\"mugshot\":\"https://example.com/files/lenses/3141.png\",\"redshift\":[]},{\"ra\":\"149.902920\",\"dec\":\"2.605830\",\"name\":\"J095936+023620\",\"alt_name\":null,\"flag\":\"CANDIDATE\",\"score\":\"1.0000\",\"image_sep\":\"4.8000\",\"info\":\"\",\"n_img\":null,\"image_conf\":[],\"lens_type\":[\"GALAXY\"],\"source_type\":[],\"contaminant_type\":[],\"mugshot\":\"https://example.com/files/lenses/3206.png\",\"redshift\":[]},{\"ra\":\"149.913210\",\"dec\":\"2.512220\",\"name\":\"SA78\",\"alt_name\":null,\"flag\":\"CONFIRMED\",\"score\":\"2.0000\",\"image_sep\":\"1.4000\",\"info\":\"\",\"n_img\":null,\"image_conf\":[],\"lens_type\":[\"GALAXY\",\"GROUP\"],\"source_type\":[\"GALAXY\"],\"contaminant_type\":[],\"mugshot\":\"https://example.com/files/lenses/1274.png\",\"redshift\":[{\"value\":\"0.7200\",\"dvalue_min\":null,\"dvalue_max\":null,\"tag\":\"LENS\",\"method\":\"PHOTO\",\"info\":null}]},{\"ra\":\"149.918330\",\"dec\":\"2.548060\",\"name\":\"J095940+023253\",\"alt_name\":null,\"flag\":\"CANDIDATE\",\"score\":\"2.0000\",\"image_sep\":\"3.0600\",\"info\":\"\",\"n_img\":null,\"image_conf\":[],\"lens_type\":[\"GALAXY\"],\"source_type\":[],\"contaminant_type\":[],\"mugshot\":\"https://example.com/files/lenses/3207.png\",\"redshift\":[]},{\"ra\":\"149.926790\",\"dec\":\"2.498920\",\"name\":\"SA79\",\"alt_name\":null,\"flag\":\"CANDIDATE\",\"score\":null,\"image_sep\":null,\"info\":\"\",\"n_img\":null,\"image_conf\":[],\"lens_type\":[\"GROUP\"],\"source_type\":[\"GALAXY\"],\"contaminant_type\":[],\"mugshot\":\"https://example.com/files/lenses/1275.png\",\"redshift\":[]},{\"ra\":\"149.929580\",\"dec\":\"2.471110\",\"name\":\"J095943+022815\",\"alt_name\":null,\"flag\":\"CANDIDATE\",\"score\":\"1.0000\",\"image_sep\":\"3.2800\",\"info\":\"\",\"n_img\":null,\"image_conf\":[],\"lens_type\":[\"GALAXY\"],\"source_type\":[],\"contaminant_type\":[],\"mugshot\":\"https://example.com/files/lenses/3208.png\",\"redshift\":[]},{\"ra\":\"149.931000\",\"dec\":\"2.370400\",\"name\":\"HSCJ095943.44+022213.4\",\"alt_name\":null,\"flag\":\"CANDIDATE\",\"score\":\"1.0000\",\"image_sep\":null,\"info\":\"\",\"n_img\":null,\"image_conf\":[],\"lens_type\":[\"GALAXY\"],\"source_type\":[],\"contaminant_type\":[],\"mugshot\":\"https://example.com/files/lenses/9112.png\",\"redshift\":[{\"value\":\"0.9000\",\"dvalue_min\":null,\"dvalue_max\":null,\"tag\":\"LENS\",\"method\":\"PHOTO\",\"info\":null}]},{\"ra\":\"149.932520\",\"dec\":\"2.346230\",\"name\":\"HSCJ095943+022046\",\"alt_name\":null,\"flag\":\"CANDIDATE\",\"score\":\"1.5000\",\"image_sep\":null,\"info\":\"\",\"n_img\":null,\"image_conf\":[],\"lens_type\":[\"GALAXY\"],\"source_type\":[\"QUASAR\"],\"contaminant_type\":[],\"mugshot\":\"https://example.com/files/lenses/10083.png\",\"redshift\":[]},{\"ra\":\"149.949170\",\"dec\":\"2.797780\",\"name\":\"J095947+024752\",\"alt_name\":null,\"flag\":\"CANDIDATE\",\"score\":\"1.0000\",\"image_sep\":\"5.1000\",\"info\":\"\",\"n_img\":null,\"image_conf\":[],\"lens_type\":[\"GALAXY\"],\"source_type\":[],\"contaminant_type\":[],\"mugshot\":\"https://example.com/files/lenses/3186.png\",\"redshift\":[]},{\"ra\":\"149.961450\",\"dec\":\"2.349390\",\"name\":\"J095950+022057\",\"alt_name\":null,\"flag\":\"CANDIDATE\",\"score\":\"2.0000\",\"image_sep\":\"2.3200\",\"info\":\"\",\"n_img\":null,\"image_conf\":[],\"lens_type\":[\"GALAXY\"],\"source_type\":[],\"contaminant_type\":[],\"mugshot\":\"https://example.com/files/lenses/3154.png\",\"redshift\":[]},{\"ra\":\"149.967150\",\"dec\":\"2.565810\",\"name\":\"J095952+023356\",\"alt_name\":null,\"flag\":\"CANDIDATE\",\"score\":\"0.2500\",\"image_sep\":null,\"info\":\"\",\"n_img\":null,\"image_conf\":[],\"lens_type\":[\"GALAXY\"],\"source_type\":[],\"contaminant_type\":[],\"mugshot\":\"https://example.com/files/lenses/6241.png\",\"redshift\":[]},{\"ra\":\"149.983250\",\"dec\":\"2.317160\",\"name\":\"SA80\",\"alt_name\":null,\"flag\":\"CONFIRMED\",\"score\":\"3.0000\",\"image_sep\":null,\"info\":\"\",\"n_img\":null,\"image_conf\":[],\"lens_type\":[\"GALAXY\",\"GROUP\"],\"source_type\":[\"GALAXY\"],\"contaminant_type\":[],\"mugshot\":\"https://example.com/files/lenses/1276.png\",\"redshift\":[{\"value\":\"0.9700\",\"dvalue_min\":null,\"dvalue_max\":null,\"tag\":\"LENS\",\"method\":\"PHOTO\",\"info\":null},{\"value\":\"0.9300\",\"dvalue_min\":null,\"dvalue_max\":null,\"tag\":\"LENS\",\"method\":\"SPECTRO\",\"info\":null}]},{\"ra\":\"149.998750\",\"dec\":\"2.063330\",\"name\":\"J095959+020347\",\"alt_name\":null,\"flag\":\"CANDIDATE\",\"score\":\"2.0000\",\"image_sep\":\"2.4000\",\"info\":\"\",\"n_img\":null,\"image_conf\":[],\"lens_type\":[\"GALAXY\"],\"source_type\":[],\"contaminant_type\":[],\"mugshot\":\"https://example.com/files/lenses/3209.png\",\"redshift\":[]},{\"ra\":\"150.040420\",\"dec\":\"2.415280\",\"name\":\"SL2SJ100009+022455\",\"alt_name\":null,\"flag\":\"CANDIDATE\",\"score\":\"2.0000\",\"image_sep\":\"5.2600\",\"info\":\"\",\"n_img\":null,\"image_conf\":[],\"lens_type\":[\"GALAXY\"],\"source_type\":[\"GALAXY\"],\"contaminant_type\":[],\"mugshot\":\"https://example.com/files/lenses/458.png\",\"redshift\":[{\"value\":\"0.5050\",\"dvalue_min\":null,\"dvalue_max\":null,\"tag\":\"LENS\",\"method\":\"PHOTO\",\"info\":null}]},{\"ra\":\"150.052500\",\"dec\":\"2.337500\",\"name\":\"SL2SJ100012+022015\",\"alt_name\":null,\"flag\":\"CONFIRMED\",\"score\":\"3.0000\",\"image_sep\":\"1.8000\",\"info\":\"\",\"n_img\":null,\"image_conf\":[],\"lens_type\":[\"GALAXY\"],\"source_type\":[\"GALAXY\"],\"contaminant_type\":[],\"mugshot\":\"https://example.com/files/lenses/459.png\",\"redshift\":[{\"value\":\"0.2840\",\"dvalue_min\":null,\"dvalue_max\":null,\"tag\":\"LENS\",\"method\":\"PHOTO\",\"info\":null},{\"value\":\"0.3700\",\"dvalue_min\":null,\"dvalue_max\":null,\"tag\":\"LENS\",\"method\":\"PHOTO\",\"info\":null}]},{\"ra\":\"150.057920\",\"dec\":\"2.380280\",\"name\":\"SL2SJ100013+022249\",\"alt_name\":null,\"flag\":\"CONFIRMED\",\"score\":\"2.0000\",\"image_sep\":\"3.3000\",\"info\":\"\",\"n_img\":null,\"image_conf\":[],\"lens_type\":[\"GALAXY\"],\"source_type\":[\"GALAXY\"],\"contaminant_type\":[],\"mugshot\":\"https://example.com/files/lenses/460.png\",\"redshift\":[{\"value\":\"0.3500\",\"dvalue_min\":null,\"dvalue_max\":null,\"tag\":\"LENS\",\"method\":\"SPECTRO\",\"info\":null},{\"value\":\"0.2560\",\"dvalue_min\":null,\"dvalue_max\":null,\"tag\":\"LENS\",\"method\":\"PHOTO\",\"info\":null}]},{\"ra\":\"150.063880\",\"dec\":\"2.605820\",\"name\":\"J100015+023620\",\"alt_name\":null,\"flag\":\"CANDIDATE\",\"score\":\"2.0000\",\"image_sep\":\"2.9400\",\"info\":\"\",\"n_img\":null,\"image_conf\":[],\"lens_type\":[\"GALAXY\"],\"source_type\":[],\"contaminant_type\":[],\"mugshot\":\"https://example.com/files/lenses/3162.png\",\"redshift\":[]},{\"ra\":\"150.066350\",\"dec\":\"1.772110\",\"name\":\"J100015+014619\",\"alt_name\":null,\"flag\":\"CANDIDATE\",\"score\":\"1.0000\",\"image_sep\":\"4.2200\",\"info\":\"\",\"n_img\":null,\"image_conf\":[],\"lens_type\":[\"GALAXY\"],\"source_type\":[],\"contaminant_type\":[],\"mugshot\":\"https://example.com/files/lenses/3135.png\",\"redshift\":[]},{\"ra\":\"150.076670\",\"dec\":\"2.645830\",\"name\":\"SL2SJ100018+023845\",\"alt_name\":null,\"flag\":\"CONFIRMED\",\"score\":\"3.0000\",\"image_sep\":\"0.8000\",\"info\":\"\",\"n_img\":null,\"image_conf\":[],\"lens_type\":[\"GALAXY\"],\"source_type\":[\"GALAXY\"],\"contaminant_type\":[],\"mugshot\":\"https://example.com/files/lenses/461.png\",\"redshift\":[{\"value\":\"0.6000\",\"dvalue_min\":null,\"dvalue_max\":null,\"tag\":\"LENS\",\"method\":\"PHOTO\",\"info\":null},{\"value\":\"0.4200\",\"dvalue_min\":null,\"dvalue_max\":null,\"tag\":\"LENS\",\"method\":\"PHOTO\",\"info\":null}]},{\"ra\":\"150.076970\",\"dec\":\"2.360760\",\"name\":\"J1000+0221\",\"alt_name\":null,\"flag\":\"CONFIRMED\",\"score\":null,\"image_sep\":\"1.1700\",\"info\":\"\",\"n_img\":null,\"image_conf\":[],\"lens_type\":[\"GALAXY\"],\"source_type\":[],\"contaminant_type\":[],\"mugshot\":\"https://example.com/files/lenses/1397.png\",\"redshift\":[{\"value\":\"3.4170\",\"dvalue_min\":null,\"dvalue_max\":null,\"tag\":\"SOURCE\",\"method\":\"SPECTRO\",\"info\":null},{\"value\":\"1.5300\",\"dvalue_min\":null,\"dvalue_max\":null,\"tag\":\"LENS\",\"method\":\"PHOTO\",\"info\":null}]},{\"ra\":\"150.085620\",\"dec\":\"2.364100\",\"name\":\"J100020+022150\",\"alt_name\":null,\"flag\":\"CANDIDATE\",\"score\":\"2.0000\",\"image_sep\":\"3.5800\",\"info\":\"\",\"n_img\":null,\"image_conf\":[],\"lens_type\":[\"GALAXY\"],\"source_type\":[],\"contaminant_type\":[],\"mugshot\":\"https://example.com/files/lenses/3152.png\",\"redshift\":[]},{\"ra\":\"150.085700\",\"dec\":\"2.297660\",\"name\":\"J100020+021751\",\"alt_name\":null,\"flag\":\"CANDIDATE\",\"score\":\"2.0000\",\"image_sep\":\"1.8200\",\"info\":\"\",\"n_img\":null,\"image_conf\":[],\"lens_type\":[\"GALAXY\"],\"source_type\":[],\"contaminant_type\":[],\"mugshot\":\"https://example.com/files/lenses/3151.png\",\"redshift\":[]},{\"ra\":\"150.091080\",\"dec\":\"1.935850\",\"name\":\"J100021+015609\",\"alt_name\":null,\"flag\":\"CANDIDATE\",\"score\":\"2.0000\",\"image_sep\":\"5.0600\",\"info\":\"\",\"n_img\":null,\"image_conf\":[],\"lens_type\":[\"GALAXY\"],\"source_type\":[],\"contaminant_type\":[],\"mugshot\":\"https://example.com/files/lenses/3138.png\",\"redshift\":[]},{\"ra\":\"150.095110\",\"dec\":\"2.300500\",\"name\":\"J100022+021801\",\"alt_name\":null,\"flag\":\"CANDIDATE\",\"score\":\"1.0000\",\"image_sep\":\"0.8600\",\"info\":\"\",\"n_img\":null,\"image_conf\":[],\"lens_type\":[\"GALAXY\"],\"source_type\":[],\"contaminant_type\":[],\"mugshot\":\"https://example.com/files/lenses/3150.png\",\"redshift\":[]},{\"ra\":\"150.098040\",\"dec\":\"2.281480\",\"name\":\"WFC3J100023.53+021653.34\",\"alt_name\":null,\"flag\":\"CANDIDATE\",\"score\":\"2.0000\",\"image_sep\":null,\"info\":\"\",\"n_img\":null,\"image_conf\":[],\"lens_type\":[],\"source_type\":[],\"contaminant_type\":[],\"mugshot\":\"https://example.com/files/lenses/1782.png\",\"redshift\":[]},{\"ra\":\"150.101280\",\"dec\":\"2.703270\",\"name\":\"J100024+024211\",\"alt_name\":null,\"flag\":\"CANDIDATE\",\"score\":\"2.0000\",\"image_sep\":\"3.4800\",\"info\":\"\",\"n_img\":null,\"image_conf\":[],\"lens_type\":[\"GALAXY\"],\"source_type\":[],\"contaminant_type\":[],\"mugshot\":\"https://example.com/files/lenses/3168.png\",\"redshift\":[]},{\"ra\":\"150.104050\",\"dec\":\"2.844370\",\"name\":\"J100024+025039\",\"alt_name\":null,\"flag\":\"CANDIDATE\",\"score\":\"2.0000\",\"image_sep\":\"4.4800\",\"info\":\"\",\"n_img\":null,\"image_conf\":[],\"lens_type\":[\"GALAXY\"],\"source_type\":[],\"contaminant_type\":[],\"mugshot\":\"https://example.com/files/lenses/3174.png\",\"redshift\":[]},{\"ra\":\"150.106310\",\"dec\":\"2.432960\",\"name\":\"J100025+022558\",\"alt_name\":null,\"flag\":\"CANDIDATE\",\"score\":\"1.0000\",\"image_sep\":\"3.6400\",\"info\":\"\",\"n_img\":null,\"image_conf\":[],\"lens_type\":[\"GALAXY\"],\"source_type\":[],\"contaminant_type\":[],\"mugshot\":\"https://example.com/files/lenses/3153.png\",\"redshift\":[]},{\"ra\":\"150.117740\",\"dec\":\"2.266770\",\"name\":\"J100028+021600\",\"alt_name\":null,\"flag\":\"CANDIDATE\",\"score\":\"2.0000\",\"image_sep\":\"1.7200\",\"info\":\"\",\"n_img\":null,\"image_conf\":[],\"lens_type\":[\"GALAXY\"],\"source_type\":[],\"contaminant_type\":[],\"mugshot\":\"https://example.com/files/lenses/3145.png\",\"redshift\":[]},{\"ra\":\"150.125500\",\"dec\":\"2.621300\",\"name\":\"HAHJ1000+0237\",\"alt_name\":null,\"flag\":\"CONFIRMED\",\"score\":null,\"image_sep\":null,\"info\":\"\",\"n_img\":null,\"image_conf\":[],\"lens_type\":[\"GALAXY\"],\"source_type\":[\"GALAXY\"],\"contaminant_type\":[],\"mugshot\":\"https://example.com/files/lenses/13438.png\",\"redshift\":[{\"value\":\"0.5200\",\"dvalue_min\":null,\"dvalue_max\":null,\"tag\":\"LENS\",\"method\":\"PHOTO\",\"info\":null}]},{\"ra\":\"150.141620\",\"dec\":\"2.464560\",\"name\":\"J100033+022752\",\"alt_name\":null,\"flag\":\"CANDIDATE\",\"score\":\"2.0000\",\"image_sep\":\"3.3000\",\"info\":\"\",\"n_img\":null,\"image_conf\":[],\"lens_type\":[\"GALAXY\"],\"source_type\":[],\"contaminant_type\":[],\"mugshot\":\"https://example.com/files/lenses/3161.png\",\"redshift\":[]},{\"ra\":\"150.159170\",\"dec\":\"2.692500\",\"name\":\"J100038+024133\",\"alt_name\":null,\"flag\":\"CANDIDATE\",\"score\":\"3.0000\",\"image_sep\":\"1.4800\",\"info\":\"\",\"n_img\":null,\"image_conf\":[],\"lens_type\":[\"GALAXY\"],\"source_type\":[],\"contaminant_type\":[],\"mugshot\":\"https://example.com/files/lenses/3176.png\",\"redshift\":[]},{\"ra\":\"150.180910\",\"dec\":\"1.714820\",\"name\":\"J100043+014253\",\"alt_name\":null,\"flag\":\"CANDIDATE\",\"score\":\"1.0000\",\"image_sep\":\"3.8000\",\"info\":\"\",\"n_img\":null,\"image_conf\":[],\"lens_type\":[\"GALAXY\"],\"source_type\":[],\"contaminant_type\":[],\"mugshot\":\"https://example.com/files/lenses/3134.png\",\"redshift\":[]},{\"ra\":\"150.196250\",\"dec\":\"2.491940\",\"name\":\"J100047+022930\",\"alt_name\":null,\"flag\":\"CANDIDATE\",\"score\":\"3.0000\",\"image_sep\":\"4.0000\",\"info\":\"\",\"n_img\":null,\"image_conf\":[],\"lens_type\":[\"GALAXY\"],\"source_type\":[],\"contaminant_type\":[],\"mugshot\":\"https://example.com/files/lenses/3187.png\",\"redshift\":[]},{\"ra\":\"150.198330\",\"dec\":\"1.839720\",\"name\":\"J100047+015022\",\"alt_name\":null,\"flag\":\"CONFIRMED\",\"score\":\"2.0000\",\"image_sep\":\"1.4000\",\"info\":\"\",\"n_img\":null,\"image_conf\":[],\"lens_type\":[\"GALAXY\"],\"source_type\":[\"GALAXY\"],\"contaminant_type\":[],\"mugshot\":\"https://example.com/files/lenses/3177.png\",\"redshift\":[{\"value\":\"0.8900\",\"dvalue_min\":null,\"dvalue_max\":null,\"tag\":\"LENS\",\"method\":\"PHOTO\",\"info\":null}]},{\"ra\":\"150.202200\",\"dec\":\"1.653800\",\"name\":\"J1000+0139\",\"alt_name\":null,\"flag\":\"CANDIDATE\",\"score\":\"1.0000\",\"image_sep\":null,\"info\":\"\",\"n_img\":null,\"image_conf\":[],\"lens_type\":[\"GALAXY\"],\"source_type\":[],\"contaminant_type\":[],\"mugshot\":\"https://example.com/files/lenses/8069.png\",\"redshift\":[{\"value\":\"0.2540\",\"dvalue_min\":null,\"dvalue_max\":null,\"tag\":\"LENS\",\"method\":\"PHOTO\",\"info\":null}]},{\"ra\":\"150.205000\",\"dec\":\"1.857780\",\"name\":\"J100049+015128\",\"alt_name\":null,\"flag\":\"CANDIDATE\",\"score\":\"1.0000\",\"image_sep\":\"4.4400\",\"info\":\"\",\"n_img\":null,\"image_conf\":[],\"lens_type\":[\"GALAXY\"],\"source_type\":[],\"contaminant_type\":[],\"mugshot\":\"https://example.com/files/lenses/3178.png\",\"redshift\":[]},{\"ra\":\"150.209400\",\"dec\":\"1.547700\",\"name\":\"J100050+013251\",\"alt_name\":\"HAHJ1000+0132, HSCJ1000+0132, HSCJ100050+013251, J100050+013251\",\"flag\":\"CONFIRMED\",\"score\":\"1.0000\",\"image_sep\":null,\"info\":\"/ Probable lensed galaxy\",\"n_img\":null,\"image_conf\":[],\"lens_type\":[\"GALAXY\"],\"source_type\":[\"GALAXY\"],\"contaminant_type\":[],\"mugshot\":\"https://example.com/files/lenses/9978.png\",\"redshift\":[{\"value\":\"0.6800\",\"dvalue_min\":null,\"dvalue_max\":null,\"tag\":\"LENS\",\"method\":\"PHOTO\",\"info\":null},{\"value\":\"0.6900\",\"dvalue_min\":null,\"dvalue_max\":null,\"tag\":\"LENS\",\"method\":\"PHOTO\",\"info\":null},{\"value\":\"0.5400\",\"dvalue_min\":null,\"dvalue_max\":null,\"tag\":\"LENS\",\"method\":\"PHOTO\",\"info\":null}]},{\"ra\":\"150.210830\",\"dec\":\"2.816940\",\"name\":\"J100050+024900\",\"alt_name\":null,\"flag\":\"CANDIDATE\",\"score\":\"3.0000\",\"image_sep\":\"3.8000\",\"info\":\"\",\"n_img\":null,\"image_conf\":[],\"lens_type\":[\"GALAXY\"],\"source_type\":[],\"contaminant_type\":[],\"mugshot\":\"https://example.com/files/lenses/3179.png\",\"redshift\":[]},{\"ra\":\"150.211670\",\"dec\":\"2.065830\",\"name\":\"J100050+020356\",\"alt_name\":null,\"flag\":\"CANDIDATE\",\"score\":\"2.0000\",\"image_sep\":\"1.3200\",\"info\":\"\",\"n_img\":null,\"image_conf\":[],\"lens_type\":[\"GALAXY\"],\"source_type\":[],\"contaminant_type\":[],\"mugshot\":\"https://example.com/files/lenses/3188.png\",\"redshift\":[]},{\"ra\":\"150.217550\",\"dec\":\"2.659540\",\"name\":\"J100052+023934\",\"alt_name\":null,\"flag\":\"CANDIDATE\",\"score\":\"1.0000\",\"image_sep\":\"2.2200\",\"info\":\"\",\"n_img\":null,\"image_conf\":[],\"lens_type\":[\"GALAXY\"],\"source_type\":[],\"contaminant_type\":[],\"mugshot\":\"https://example.com/files/lenses/3169.png\",\"redshift\":[]},{\"ra\":\"150.232080\",\"dec\":\"1.639170\",\"name\":\"J100055+013821\",\"alt_name\":null,\"flag\":\"CONFIRMED\",\"score\":\"2.0000\",\"image_sep\":\"2.1000\",\"info\":\"\",\"n_img\":null,\"image_conf\":[],\"lens_type\":[\"GALAXY\"],\"source_type\":[\"GALAXY\"],\"contaminant_type\":[],\"mugshot\":\"https://example.com/files/lenses/3189.png\",\"redshift\":[{\"value\":\"0.5500\",\"dvalue_min\":null,\"dvalue_max\":null,\"tag\":\"LENS\",\"method\":\"PHOTO\",\"info\":null}]},{\"ra\":\"150.236250\",\"dec\":\"2.207220\",\"name\":\"SL2SJ100056+021226\",\"alt_name\":null,\"flag\":\"CONFIRMED\",\"score\":\"2.0000\",\"image_sep\":\"2.4000\",\"info\":\"\",\"n_img\":null,\"image_conf\":[],\"lens_type\":[\"GALAXY\"],\"source_type\":[\"GALAXY\"],\"contaminant_type\":[],\"mugshot\":\"https://example.com/files/lenses/462.png\",\"redshift\":[{\"value\":\"0.3600\",\"dvalue_min\":null,\"dvalue_max\":null,\"tag\":\"LENS\",\"method\":\"SPECTRO\",\"info\":null},{\"value\":\"0.2560\",\"dvalue_min\":null,\"dvalue_max\":null,\"tag\":\"LENS\",\"method\":\"PHOTO\",\"info\":null}]},{\"ra\":\"150.250220\",\"dec\":\"2.763950\",\"name\":\"J100100+024550\",\"alt_name\":null,\"flag\":\"CANDIDATE\",\"score\":\"2.0000\",\"image_sep\":\"3.2000\",\"info\":\"\",\"n_img\":null,\"image_conf\":[],\"lens_type\":[\"GALAXY\"],\"source_type\":[],\"contaminant_type\":[],\"mugshot\":\"https://example.com/files/lenses/3167.png\",\"redshift\":[]},{\"ra\":\"150.259610\",\"dec\":\"2.209860\",\"name\":\"J100102+021235\",\"alt_name\":null,\"flag\":\"CANDIDATE\",\"score\":\"2.0000\",\"image_sep\":\"1.7600\",\"info\":\"\",\"n_img\":null,\"image_conf\":[],\"lens_type\":[\"GALAXY\"],\"source_type\":[],\"contaminant_type\":[],\"mugshot\":\"https://example.com/files/lenses/3144.png\",\"redshift\":[]},{\"ra\":\"150.272080\",\"dec\":\"2.758610\",\"name\":\"J100105+024530\",\"alt_name\":null,\"flag\":\"CANDIDATE\",\"score\":\"2.0000\",\"image_sep\":\"2.0000\",\"info\":\"\",\"n_img\":null,\"image_conf\":[],\"lens_type\":[\"GALAXY\"],\"source_type\":[],\"contaminant_type\":[],\"mugshot\":\"https://example.com/files/lenses/3190.png\",\"redshift\":[]},{\"ra\":\"150.285000\",\"dec\":\"2.674900\",\"name\":\"100108+024029\",\"alt_name\":null,\"flag\":\"CONFIRMED\",\"score\":\"3.0000\",\"image_sep\":\"3.0600\",\"info\":\"\",\"n_img\":null,\"image_conf\":[],\"lens_type\":[\"GALAXY\"],\"source_type\":[\"GALAXY\"],\"contaminant_type\":[],\"mugshot\":\"https://example.com/files/lenses/1721.png\",\"redshift\":[{\"value\":\"0.3780\",\"dvalue_min\":null,\"dvalue_max\":null,\"tag\":\"LENS\",\"method\":\"PHOTO\",\"info\":null},{\"value\":\"0.3200\",\"dvalue_min\":null,\"dvalue_max\":null,\"tag\":\"LENS\",\"method\":\"PHOTO\",\"info\":null}]},{\"ra\":\"150.317120\",\"dec\":\"2.531470\",\"name\":\"J100116+023153\",\"alt_name\":null,\"flag\":\"CANDIDATE\",\"score\":\"2.0000\",\"image_sep\":\"5.4200\",\"info\":\"\",\"n_img\":null,\"image_conf\":[],\"lens_type\":[\"GALAXY\"],\"source_type\":[],\"contaminant_type\":[],\"mugshot\":\"https://example.com/files/lenses/3160.png\",\"redshift\":[]},{\"ra\":\"150.329390\",\"dec\":\"2.671670\",\"name\":\"J100119+024018\",\"alt_name\":null,\"flag\":\"CANDIDATE\",\"score\":\"2.0000\",\"image_sep\":\"4.8800\",\"info\":\"\",\"n_img\":null,\"image_conf\":[],\"lens_type\":[\"GALAXY\"],\"source_type\":[],\"contaminant_type\":[],\"mugshot\":\"https://example.com/files/lenses/3166.png\",\"redshift\":[]},{\"ra\":\"150.334170\",\"dec\":\"1.764170\",\"name\":\"J100120+014551\",\"alt_name\":null,\"flag\":\"CANDIDATE\",\"score\":\"2.0000\",\"image_sep\":\"2.5600\",\"info\":\"\",\"n_img\":null,\"image_conf\":[],\"lens_type\":[\"GALAXY\"],\"source_type\":[],\"contaminant_type\":[],\"mugshot\":\"https://example.com/files/lenses/3191.png\",\"redshift\":[]},{\"ra\":\"150.352080\",\"dec\":\"1.855830\",\"name\":\"J100124+015120\",\"alt_name\":null,\"flag\":\"CANDIDATE\",\"score\":\"2.0000\",\"image_sep\":\"1.6800\",\"info\":\"\",\"n_img\":null,\"image_conf\":[],\"lens_type\":[\"GALAXY\"],\"source_type\":[],\"contaminant_type\":[],\"mugshot\":\"https://example.com/files/lenses/3180.png\",\"redshift\":[]},{\"ra\":\"150.358400\",\"dec\":\"1.620700\",\"name\":\"COSMOSJ100126.02+013714.5\",\"alt_name\":null,\"flag\":\"CANDIDATE\",\"score\":\"1.0000\",\"image_sep\":null,\"info\":\"\",\"n_img\":null,\"image_conf\":[],\"lens_type\":[],\"source_type\":[],\"contaminant_type\":[],\"mugshot\":\"https://example.com/files/lenses/843.png\",\"redshift\":[]},{\"ra\":\"150.374570\",\"dec\":\"2.740930\",\"name\":\"HSCJ100129+024427\",\"alt_name\":null,\"flag\":\"CANDIDATE\",\"score\":\"2.0000\",\"image_sep\":null,\"info\":\"Lensed galaxy candidate by serendipitous discovery\",\"n_img\":null,\"image_conf\":[],\"lens_type\":[\"GALAXY\"],\"source_type\":[\"GALAXY\"],\"contaminant_type\":[],\"mugshot\":\"https://example.com/files/lenses/10086.png\",\"redshift\":[]},{\"ra\":\"150.377170\",\"dec\":\"2.317550\",\"name\":\"J1001+0219\",\"alt_name\":null,\"flag\":\"CANDIDATE\",\"score\":\"3.0000\",\"image_sep\":\"1.2100\",\"info\":\"single line detection; grade:A\",\"n_img\":null,\"image_conf\":[],\"lens_type\":[\"GALAXY\"],\"source_type\":[\"GALAXY\"],\"contaminant_type\":[],\"mugshot\":\"https://example.com/files/lenses/9745.png\",\"redshift\":[{\"value\":\"0.7000\",\"dvalue_min\":null,\"dvalue_max\":null,\"tag\":\"LENS\",\"method\":\"SPECTRO\",\"info\":null},{\"value\":\"2.5000\",\"dvalue_min\":null,\"dvalue_max\":null,\"tag\":\"SOURCE\",\"method\":\"PHOTO\",\"info\":null}]},{\"ra\":\"150.390580\",\"dec\":\"2.359820\",\"name\":\"SA81\",\"alt_name\":null,\"flag\":\"CONFIRMED\",\"score\":\"3.0000\",\"image_sep\":null,\"info\":\"\",\"n_img\":null,\"image_conf\":[],\"lens_type\":[\"GALAXY\",\"GROUP\"],\"source_type\":[\"GALAXY\"],\"contaminant_type\":[],\"mugshot\":\"https://example.com/files/lenses/1277.png\",\"redshift\":[{\"value\":\"0.3600\",\"dvalue_min\":null,\"dvalue_max\":null,\"tag\":\"LENS\",\"method\":\"PHOTO\",\"info\":null}]},{\"ra\":\"150.404500\",\"dec\":\"2.554400\",\"name\":\"J1001+0233\",\"alt_name\":null,\"flag\":\"CANDIDATE\",\"score\":\"1.0000\",\"image_sep\":null,\"info\":\"\",\"n_img\":null,\"image_conf\":[],\"lens_type\":[\"GALAXY\"],\"source_type\":[],\"contaminant_type\":[],\"mugshot\":\"https://example.com/files/lenses/8070.png\",\"redshift\":[{\"value\":\"0.2477\",\"dvalue_min\":null,\"dvalue_max\":null,\"tag\":\"LENS\",\"method\":\"SPECTRO\",\"info\":null}]},{\"ra\":\"150.411970\",\"dec\":\"2.308880\",\"name\":\"J100138+021831\",\"alt_name\":null,\"flag\":\"CANDIDATE\",\"score\":\"2.0000\",\"image_sep\":\"3.7200\",\"info\":\"\",\"n_img\":null,\"image_conf\":[],\"lens_type\":[\"GALAXY\"],\"source_type\":[],\"contaminant_type\":[],\"mugshot\":\"https://example.com/files/lenses/3149.png\",\"redshift\":[]},{\"ra\":\"150.417200\",\"dec\":\"2.011300\",\"name\":\"COSMOSJ100140.12+020040.9\",\"alt_name\":null,\"flag\":\"CANDIDATE\",\"score\":\"2.5000\",\"image_sep\":\"1.5700\",\"info\":\"\",\"n_img\":null,\"image_conf\":[],\"lens_type\":[\"GALAXY\"],\"source_type\":[],\"contaminant_type\":[],\"mugshot\":\"https://example.com/files/lenses/841.png\",\"redshift\":[{\"value\":\"0.8100\",\"dvalue_min\":null,\"dvalue_max\":null,\"tag\":\"LENS\",\"method\":\"PHOTO\",\"info\":null}]},{\"ra\":\"150.420600\",\"dec\":\"1.945310\",\"name\":\"SDSSJ1001+0156\",\"alt_name\":null,\"flag\":\"CANDIDATE\",\"score\":\"0.5000\",\"image_sep\":null,\"info\":\"Different SED\",\"n_img\":null,\"image_conf\":[],\"lens_type\":[\"GALAXY\"],\"source_type\":[\"QUASAR\"],\"contaminant_type\":[],\"mugshot\":\"https://example.com/files/lenses/2465.png\",\"redshift\":[{\"value\":\"2.2020\",\"dvalue_min\":null,\"dvalue_max\":null,\"tag\":\"SOURCE\",\"method\":\"SPECTRO\",\"info\":null}]},{\"ra\":\"150.421040\",\"dec\":\"1.984450\",\"name\":\"J100141+015904\",\"alt_name\":null,\"flag\":\"CANDIDATE\",\"score\":\"0.2500\",\"image_sep\":null,\"info\":\"\",\"n_img\":null,\"image_conf\":[],\"lens_type\":[\"GALAXY\"],\"source_type\":[],\"contaminant_type\":[],\"mugshot\":\"https://example.com/files/lenses/6527.png\",\"redshift\":[]},{\"ra\":\"150.421700\",\"dec\":\"2.078900\",\"name\":\"100141+020444\",\"alt_name\":null,\"flag\":\"CONTAMINANT\",\"score\":\"0.0000\",\"image_sep\":null,\"info\":\"\",\"n_img\":null,\"image_conf\":[],\"lens_type\":[],\"source_type\":[],\"contaminant_type\":[],\"mugshot\":\"https://example.com/files/lenses/1722.png\",\"redshift\":[{\"value\":\"0.7830\",\"dvalue_min\":null,\"dvalue_max\":null,\"tag\":\"LENS\",\"method\":\"PHOTO\",\"info\":null}]},{\"ra\":\"150.424100\",\"dec\":\"2.240100\",\"name\":\"HAHJ1001+0214\",\"alt_name\":null,\"flag\":\"CONFIRMED\",\"score\":null,\"image_sep\":null,\"info\":\"\",\"n_img\":null,\"image_conf\":[],\"lens_type\":[\"GALAXY\"],\"source_type\":[\"GALAXY\"],\"contaminant_type\":[],\"mugshot\":\"https://example.com/files/lenses/13378.png\",\"redshift\":[{\"value\":\"0.3400\",\"dvalue_min\":null,\"dvalue_max\":null,\"tag\":\"LENS\",\"method\":\"PHOTO\",\"info\":null}]},{\"ra\":\"150.428400\",\"dec\":\"1.913300\",\"name\":\"HAHJ1001+0154\",\"alt_name\":null,\"flag\":\"CONFIRMED\",\"score\":null,\"image_sep\":null,\"info\":\"\",\"n_img\":null,\"image_conf\":[],\"lens_type\":[\"GALAXY\"],\"source_type\":[\"GALAXY\"],\"contaminant_type\":[],\"mugshot\":\"https://example.com/files/lenses/13510.png\",\"redshift\":[{\"value\":\"0.3200\",\"dvalue_min\":null,\"dvalue_max\":null,\"tag\":\"LENS\",\"method\":\"PHOTO\",\"info\":null}]},{\"ra\":\"150.440340\",\"dec\":\"1.754850\",\"name\":\"J100145+014517\",\"alt_name\":null,\"flag\":\"CANDIDATE\",\"score\":\"3.0000\",\"image_sep\":\"2.7200\",\"info\":\"\",\"n_img\":null,\"image_conf\":[],\"lens_type\":[\"GALAXY\"],\"source_type\":[],\"contaminant_type\":[],\"mugshot\":\"https://example.com/files/lenses/3133.png\",\"redshift\":[]},{\"ra\":\"150.443480\",\"dec\":\"2.847810\",\"name\":\"J100146+025052\",\"alt_name\":null,\"flag\":\"CANDIDATE\",\"score\":\"1.0000\",\"image_sep\":\"3.1000\",\"info\":\"\",\"n_img\":null,\"image_conf\":[],\"lens_type\":[\"GALAXY\"],\"source_type\":[],\"contaminant_type\":[],\"mugshot\":\"https://example.com/files/lenses/3173.png\",\"redshift\":[]},{\"ra\":\"150.449130\",\"dec\":\"2.368490\",\"name\":\"SA82\",\"alt_name\":null,\"flag\":\"CANDIDATE\",\"score\":null,\"image_sep\":null,\"info\":\"\",\"n_img\":null,\"image_conf\":[],\"lens_type\":[\"GROUP\"],\"source_type\":[\"GALAXY\"],\"contaminant_type\":[],\"mugshot\":\"https://example.com/files/lenses/1278.png\",\"redshift\":[]},{\"ra\":\"150.450420\",\"dec\":\"2.390280\",\"name\":\"SL2SJ100148+022325\",\"alt_name\":null,\"flag\":\"CANDIDATE\",\"score\":\"1.0000\",\"image_sep\":\"2.8600\",\"info\":\"\",\"n_img\":null,\"image_conf\":[],\"lens_type\":[\"GALAXY\"],\"source_type\":[\"GALAXY\"],\"contaminant_type\":[],\"mugshot\":\"https://example.com/files/lenses/463.png\",\"redshift\":[{\"value\":\"0.2840\",\"dvalue_min\":null,\"dvalue_max\":null,\"tag\":\"LENS\",\"method\":\"PHOTO\",\"info\":null}]},{\"ra\":\"150.506300\",\"dec\":\"2.058100\",\"name\":\"CXCOJ100201.50+020330.0\",\"alt_name\":null,\"flag\":\"CONFIRMED\",\"score\":null,\"image_sep\":\"0.8500\",\"info\":\"\",\"n_img\":2,\"image_conf\":[],\"lens_type\":[\"GALAXY\"],\"source_type\":[\"QUASAR\"],\"contaminant_type\":[],\"mugshot\":\"https://example.com/files/lenses/11467.png\",\"redshift\":[{\"value\":\"2.0160\",\"dvalue_min\":null,\"dvalue_max\":null,\"tag\":\"SOURCE\",\"method\":\"SPECTRO\",\"info\":null},{\"value\":\"0.4390\",\"dvalue_min\":null,\"dvalue_max\":null,\"tag\":\"LENS\",\"method\":\"SPECTRO\",\"info\":null}]},{\"ra\":\"150.529560\",\"dec\":\"2.571020\",\"name\":\"J100207+023415\",\"alt_name\":null,\"flag\":\"CANDIDATE\",\"score\":\"0.2500\",\"image_sep\":null,\"info\":\"\",\"n_img\":null,\"image_conf\":[],\"lens_type\":[\"GALAXY\"],\"source_type\":[],\"contaminant_type\":[],\"mugshot\":\"https://example.com/files/lenses/7063.png\",\"redshift\":[]},{\"ra\":\"150.535420\",\"dec\":\"2.239440\",\"name\":\"SL2SJ100208+021422\",\"alt_name\":null,\"flag\":\"CANDIDATE\",\"score\":\"2.0000\",\"image_sep\":\"3.1800\",\"info\":\"\",\"n_img\":null,\"image_conf\":[],\"lens_type\":[\"GALAXY\"],\"source_type\":[\"GALAXY\"],\"contaminant_type\":[],\"mugshot\":\"https://example.com/files/lenses/464.png\",\"redshift\":[{\"value\":\"0.2560\",\"dvalue_min\":null,\"dvalue_max\":null,\"tag\":\"LENS\",\"method\":\"PHOTO\",\"info\":null}]},{\"ra\":\"150.546670\",\"dec\":\"2.194170\",\"name\":\"SL2SJ100211+021139\",\"alt_name\":null,\"flag\":\"CONFIRMED\",\"score\":\"3.0000\",\"image_sep\":null,\"info\":\"\",\"n_img\":null,\"image_conf\":[],\"lens_type\":[\"GALAXY\",\"GROUP\"],\"source_type\":[\"GALAXY\"],\"contaminant_type\":[],\"mugshot\":\"https://example.com/files/lenses/465.png\",\"redshift\":[{\"value\":\"0.5400\",\"dvalue_min\":null,\"dvalue_max\":null,\"tag\":\"LENS\",\"method\":\"PHOTO\",\"info\":null},{\"value\":\"0.7000\",\"dvalue_min\":null,\"dvalue_max\":null,\"tag\":\"LENS\",\"method\":\"PHOTO\",\"info\":null}]},{\"ra\":\"150.548620\",\"dec\":\"2.498680\",\"name\":\"SA84\",\"alt_name\":null,\"flag\":\"CANDIDATE\",\"score\":null,\"image_sep\":null,\"info\":\"\",\"n_img\":null,\"image_conf\":[],\"lens_type\":[\"GROUP\"],\"source_type\":[\"GALAXY\"],\"contaminant_type\":[],\"mugshot\":\"https://example.com/files/lenses/1279.png\",\"redshift\":[]},{\"ra\":\"150.548640\",\"dec\":\"2.766170\",\"name\":\"J100211+024558\",\"alt_name\":null,\"flag\":\"CANDIDATE\",\"score\":\"2.0000\",\"image_sep\":\"1.6800\",\"info\":\"\",\"n_img\":null,\"image_conf\":[],\"lens_type\":[\"GALAXY\"],\"source_type\":[],\"contaminant_type\":[],\"mugshot\":\"https://example.com/files/lenses/3165.png\",\"redshift\":[]},{\"ra\":\"150.549640\",\"dec\":\"2.140850\",\"name\":\"J100211+020827\",\"alt_name\":null,\"flag\":\"CANDIDATE\",\"score\":\"2.0000\",\"image_sep\":\"1.8200\",\"info\":\"\",\"n_img\":null,\"image_conf\":[],\"lens_type\":[\"GALAXY\"],\"source_type\":[],\"contaminant_type\":[],\"mugshot\":\"https://example.com/files/lenses/3143.png\",\"redshift\":[]},{\"ra\":\"150.561880\",\"dec\":\"2.626800\",\"name\":\"SA85\",\"alt_name\":null,\"flag\":\"CANDIDATE\",\"score\":null,\"image_sep\":null,\"info\":\"\",\"n_img\":null,\"image_conf\":[],\"lens_type\":[\"GROUP\"],\"source_type\":[\"GALAXY\"],\"contaminant_type\":[],\"mugshot\":\"https://example.com/files/lenses/1280.png\",\"redshift\":[]},{\"ra\":\"150.570000\",\"dec\":\"2.498610\",\"name\":\"SL2SJ100216+022955\",\"alt_name\":null,\"flag\":\"CANDIDATE\",\"score\":\"2.0000\",\"image_sep\":\"3.9200\",\"info\":\"\",\"n_img\":null,\"image_conf\":[],\"lens_type\":[\"GALAXY\"],\"source_type\":[\"GALAXY\"],\"contaminant_type\":[],\"mugshot\":\"https://example.com/files/lenses/466.png\",\"redshift\":[{\"value\":\"0.5200\",\"dvalue_min\":null,\"dvalue_max\":null,\"tag\":\"LENS\",\"method\":\"PHOTO\",\"info\":null}]},{\"ra\":\"150.571400\",\"dec\":\"2.506660\",\"name\":\"J100217+023023\",\"alt_name\":null,\"flag\":\"CANDIDATE\",\"score\":\"1.0000\",\"image_sep\":\"3.1000\",\"info\":\"\",\"n_img\":null,\"image_conf\":[],\"lens_type\":[\"GALAXY\"],\"source_type\":[],\"contaminant_type\":[],\"mugshot\":\"https://example.com/files/lenses/3157.png\",\"redshift\":[]},{\"ra\":\"150.584500\",\"dec\":\"2.393300\",\"name\":\"100220+022335\",\"alt_name\":null,\"flag\":\"CANDIDATE\",\"score\":\"2.0000\",\"image_sep\":\"2.0800\",\"info\":\"\",\"n_img\":null,\"image_conf\":[],\"lens_type\":[\"GALAXY\"],\"source_type\":[],\"contaminant_type\":[],\"mugshot\":\"https://example.com/files/lenses/1723.png\",\"redshift\":[{\"value\":\"0.6000\",\"dvalue_min\":null,\"dvalue_max\":null,\"tag\":\"LENS\",\"method\":\"PHOTO\",\"info\":null}]},{\"ra\":\"150.587920\",\"dec\":\"2.577780\",\"name\":\"SL2SJ100221+023440\",\"alt_name\":null,\"flag\":\"CANDIDATE\",\"score\":\"1.0000\",\"image_sep\":\"3.1400\",\"info\":\"\",\"n_img\":null,\"image_conf\":[],\"lens_type\":[\"GALAXY\"],\"source_type\":[\"GALAXY\"],\"contaminant_type\":[],\"mugshot\":\"https://example.com/files/lenses/467.png\",\"redshift\":[{\"value\":\"0.2560\",\"dvalue_min\":null,\"dvalue_max\":null,\"tag\":\"LENS\",\"method\":\"PHOTO\",\"info\":null}]},{\"ra\":\"150.593030\",\"dec\":\"2.538900\",\"name\":\"HAHJ1002+0232\",\"alt_name\":null,\"flag\":\"CONFIRMED\",\"score\":null,\"image_sep\":null,\"info\":\"\",\"n_img\":null,\"image_conf\":[],\"lens_type\":[\"GALAXY\"],\"source_type\":[\"GALAXY\"],\"contaminant_type\":[],\"mugshot\":\"https://example.com/files/lenses/13511.png\",\"redshift\":[{\"value\":\"1.2300\",\"dvalue_min\":null,\"dvalue_max\":null,\"tag\":\"LENS\",\"method\":\"PHOTO\",\"info\":null}]},{\"ra\":\"150.614580\",\"dec\":\"2.080830\",\"name\":\"J100227+020450\",\"alt_name\":null,\"flag\":\"CANDIDATE\",\"score\":\"1.0000\",\"image_sep\":\"3.2400\",\"info\":\"\",\"n_img\":null,\"image_conf\":[],\"lens_type\":[\"GALAXY\"],\"source_type\":[],\"contaminant_type\":[],\"mugshot\":\"https://example.com/files/lenses/3181.png\",\"redshift\":[]},{\"ra\":\"150.624610\",\"dec\":\"2.540320\",\"name\":\"J100229+023225\",\"alt_name\":null,\"flag\":\"CANDIDATE\",\"score\":\"1.0000\",\"image_sep\":\"1.7600\",\"info\":\"\",\"n_img\":null,\"image_conf\":[],\"lens_type\":[\"GALAXY\"],\"source_type\":[],\"contaminant_type\":[],\"mugshot\":\"https://example.com/files/lenses/3158.png\",\"redshift\":[]},{\"ra\":\"150.644510\",\"dec\":\"2.808900\",\"name\":\"J100234+024832\",\"alt_name\":null,\"flag\":\"CANDIDATE\",\"score\":\"2.0000\",\"image_sep\":\"2.0400\",\"info\":\"\",\"n_img\":null,\"image_conf\":[],\"lens_type\":[\"GALAXY\"],\"source_type\":[],\"contaminant_type\":[],\"mugshot\":\"https://example.com/files/lenses/3172.png\",\"redshift\":[]},{\"ra\":\"150.646190\",\"dec\":\"1.840280\",\"name\":\"J100235+015025\",\"alt_name\":null,\"flag\":\"CANDIDATE\",\"score\":\"2.0000\",\"image_sep\":\"3.8200\",\"info\":\"\",\"n_img\":null,\"image_conf\":[],\"lens_type\":[\"GALAXY\"],\"source_type\":[],\"contaminant_type\":[],\"mugshot\":\"https://example.com/files/lenses/3137.png\",\"redshift\":[]},{\"ra\":\"150.650000\",\"dec\":\"2.801940\",\"name\":\"J100236+024806\",\"alt_name\":null,\"flag\":\"CANDIDATE\",\"score\":\"2.0000\",\"image_sep\":\"2.5400\",\"info\":\"\",\"n_img\":null,\"image_conf\":[],\"lens_type\":[\"GALAXY\"],\"source_type\":[],\"contaminant_type\":[],\"mugshot\":\"https://example.com/files/lenses/3192.png\",\"redshift\":[]},{\"ra\":\"150.656040\",\"dec\":\"2.447840\",\"name\":\"J100237+022652\",\"alt_name\":null,\"flag\":\"CANDIDATE\",\"score\":\"3.0000\",\"image_sep\":\"3.0200\",\"info\":\"\",\"n_img\":null,\"image_conf\":[],\"lens_type\":[\"GALAXY\"],\"source_type\":[],\"contaminant_type\":[],\"mugshot\":\"https://example.com/files/lenses/3148.png\",\"redshift\":[]},{\"ra\":\"150.670700\",\"dec\":\"2.091370\",\"name\":\"J100240+020528\",\"alt_name\":null,\"flag\":\"CANDIDATE\",\"score\":\"2.0000\",\"image_sep\":\"2.6000\",\"info\":\"\",\"n_img\":null,\"image_conf\":[],\"lens_type\":[\"GALAXY\"],\"source_type\":[],\"contaminant_type\":[],\"mugshot\":\"https://example.com/files/lenses/3140.png\",\"redshift\":[]},{\"ra\":\"150.694130\",\"dec\":\"2.547940\",\"name\":\"J100246+023252\",\"alt_name\":null,\"flag\":\"CANDIDATE\",\"score\":\"1.0000\",\"image_sep\":\"3.7400\",\"info\":\"\",\"n_img\":null,\"image_conf\":[],\"lens_type\":[\"GALAXY\"],\"source_type\":[],\"contaminant_type\":[],\"mugshot\":\"https://example.com/files/lenses/3159.png\",\"redshift\":[]},{\"ra\":\"150.725000\",\"dec\":\"2.241670\",\"name\":\"J100254+021430\",\"alt_name\":null,\"flag\":\"CANDIDATE\",\"score\":\"2.0000\",\"image_sep\":\"3.0800\",\"info\":\"\",\"n_img\":null,\"image_conf\":[],\"lens_type\":[\"GALAXY\"],\"source_type\":[],\"contaminant_type\":[],\"mugshot\":\"https://example.com/files/lenses/3182.png\",\"redshift\":[]},{\"ra\":\"150.747020\",\"dec\":\"2.666030\",\"name\":\"J100259+023957\",\"alt_name\":null,\"flag\":\"CANDIDATE\",\"score\":\"1.0000\",\"image_sep\":\"3.9200\",\"info\":\"\",\"n_img\":null,\"image_conf\":[],\"lens_type\":[\"GALAXY\"],\"source_type\":[],\"contaminant_type\":[],\"mugshot\":\"https://example.com/files/lenses/3164.png\",\"redshift\":[]},{\"ra\":\"150.782560\",\"dec\":\"2.044840\",\"name\":\"HSCJ100307+020241\",\"alt_name\":null,\"flag\":\"CANDIDATE\",\"score\":\"1.7000\",\"image_sep\":null,\"info\":\"No HST image\",\"n_img\":null,\"image_conf\":[],\"lens_type\":[\"GALAXY\"],\"source_type\":[\"QUASAR\"],\"contaminant_type\":[],\"mugshot\":\"https://example.com/files/lenses/10082.png\",\"redshift\":[]}],\"errors\":\"\"}\n"
     ]
    }
   ],
   "source": [
    "lensdata = {'lens-ra_min':round(ra_min, 4), 'lens-ra_max':round(ra_max, 4),\n",
    "            'lens-dec_min':round(dec_min, 4), 'lens-dec_max':round(dec_max, 4),\n",
    "            'download_choices-redshift':1}\n",
    "#            'append_papers':1, 'append_images':1, 'append_spectra':1, 'append_redshifts':1, 'append_catalogue':1}\n",
    "\n",
    "r = requests.post(urlquery, data=lensdata, auth=HTTPBasicAuth(username, password))\n",
    "print(r.text)\n",
    "dbquery = json.loads(r.text)"
   ]
  },
  {
   "cell_type": "code",
   "execution_count": 16,
   "id": "4cf79e37-b2ea-40e4-a285-6291b1a561c7",
   "metadata": {},
   "outputs": [],
   "source": [
    "lenses = dbquery['lenses']"
   ]
  },
  {
   "cell_type": "code",
   "execution_count": 17,
   "id": "fd5e7b07",
   "metadata": {},
   "outputs": [
    {
     "name": "stdout",
     "output_type": "stream",
     "text": [
      "Your search returned 126 SLED match(es) with the following names:\n"
     ]
    }
   ],
   "source": [
    "print('Your search returned', len(lenses), 'SLED match(es) with the following names:')"
   ]
  },
  {
   "cell_type": "code",
   "execution_count": 19,
   "id": "5362f726",
   "metadata": {
    "scrolled": true
   },
   "outputs": [
    {
     "name": "stdout",
     "output_type": "stream",
     "text": [
      "[]\n",
      "[]\n",
      "[{'value': '0.5740', 'dvalue_min': None, 'dvalue_max': None, 'tag': 'LENS', 'method': 'SPECTRO', 'info': None}, {'value': '0.5738', 'dvalue_min': None, 'dvalue_max': None, 'tag': 'LENS', 'method': 'SPECTRO', 'info': None}]\n",
      "[]\n",
      "[]\n",
      "[]\n",
      "[]\n",
      "[]\n",
      "[]\n",
      "[]\n",
      "[{'value': '0.4000', 'dvalue_min': None, 'dvalue_max': None, 'tag': 'LENS', 'method': 'PHOTO', 'info': None}]\n",
      "[]\n",
      "[{'value': '0.3092', 'dvalue_min': None, 'dvalue_max': None, 'tag': 'SOURCE', 'method': 'SPECTRO', 'info': None}, {'value': '0.0278', 'dvalue_min': None, 'dvalue_max': None, 'tag': 'LENS', 'method': 'SPECTRO', 'info': None}]\n",
      "[]\n",
      "[]\n",
      "[]\n",
      "[]\n",
      "[]\n",
      "[]\n",
      "[]\n",
      "[]\n",
      "[{'value': '0.4720', 'dvalue_min': None, 'dvalue_max': None, 'tag': 'LENS', 'method': 'PHOTO', 'info': None}]\n",
      "[]\n",
      "[]\n",
      "[]\n",
      "[]\n",
      "[{'value': '0.0700', 'dvalue_min': '0.0600', 'dvalue_max': '0.0600', 'tag': 'LENS', 'method': 'PHOTO', 'info': None}]\n",
      "[]\n",
      "[{'value': '0.5800', 'dvalue_min': None, 'dvalue_max': None, 'tag': 'LENS', 'method': 'PHOTO', 'info': None}, {'value': '0.5520', 'dvalue_min': None, 'dvalue_max': None, 'tag': 'LENS', 'method': 'SPECTRO', 'info': None}, {'value': '0.5520', 'dvalue_min': None, 'dvalue_max': None, 'tag': 'LENS', 'method': 'SPECTRO', 'info': None}, {'value': '3.3500', 'dvalue_min': None, 'dvalue_max': None, 'tag': 'SOURCE', 'method': 'SPECTRO', 'info': None}]\n",
      "[]\n",
      "[]\n",
      "[]\n",
      "[{'value': '1.1300', 'dvalue_min': None, 'dvalue_max': None, 'tag': 'LENS', 'method': 'PHOTO', 'info': None}, {'value': '0.8900', 'dvalue_min': None, 'dvalue_max': None, 'tag': 'LENS', 'method': 'SPECTRO', 'info': None}, {'value': '1.2100', 'dvalue_min': None, 'dvalue_max': None, 'tag': 'LENS', 'method': 'PHOTO', 'info': None}]\n",
      "[]\n",
      "[]\n",
      "[]\n",
      "[]\n",
      "[{'value': '0.7200', 'dvalue_min': None, 'dvalue_max': None, 'tag': 'LENS', 'method': 'PHOTO', 'info': None}]\n",
      "[]\n",
      "[]\n",
      "[]\n",
      "[{'value': '0.9000', 'dvalue_min': None, 'dvalue_max': None, 'tag': 'LENS', 'method': 'PHOTO', 'info': None}]\n",
      "[]\n",
      "[]\n",
      "[]\n",
      "[]\n",
      "[{'value': '0.9700', 'dvalue_min': None, 'dvalue_max': None, 'tag': 'LENS', 'method': 'PHOTO', 'info': None}, {'value': '0.9300', 'dvalue_min': None, 'dvalue_max': None, 'tag': 'LENS', 'method': 'SPECTRO', 'info': None}]\n",
      "[]\n",
      "[{'value': '0.5050', 'dvalue_min': None, 'dvalue_max': None, 'tag': 'LENS', 'method': 'PHOTO', 'info': None}]\n",
      "[{'value': '0.2840', 'dvalue_min': None, 'dvalue_max': None, 'tag': 'LENS', 'method': 'PHOTO', 'info': None}, {'value': '0.3700', 'dvalue_min': None, 'dvalue_max': None, 'tag': 'LENS', 'method': 'PHOTO', 'info': None}]\n",
      "[{'value': '0.3500', 'dvalue_min': None, 'dvalue_max': None, 'tag': 'LENS', 'method': 'SPECTRO', 'info': None}, {'value': '0.2560', 'dvalue_min': None, 'dvalue_max': None, 'tag': 'LENS', 'method': 'PHOTO', 'info': None}]\n",
      "[]\n",
      "[]\n",
      "[{'value': '0.6000', 'dvalue_min': None, 'dvalue_max': None, 'tag': 'LENS', 'method': 'PHOTO', 'info': None}, {'value': '0.4200', 'dvalue_min': None, 'dvalue_max': None, 'tag': 'LENS', 'method': 'PHOTO', 'info': None}]\n",
      "[{'value': '3.4170', 'dvalue_min': None, 'dvalue_max': None, 'tag': 'SOURCE', 'method': 'SPECTRO', 'info': None}, {'value': '1.5300', 'dvalue_min': None, 'dvalue_max': None, 'tag': 'LENS', 'method': 'PHOTO', 'info': None}]\n",
      "[]\n",
      "[]\n",
      "[]\n",
      "[]\n",
      "[]\n",
      "[]\n",
      "[]\n",
      "[]\n",
      "[]\n",
      "[{'value': '0.5200', 'dvalue_min': None, 'dvalue_max': None, 'tag': 'LENS', 'method': 'PHOTO', 'info': None}]\n",
      "[]\n",
      "[]\n",
      "[]\n",
      "[]\n",
      "[{'value': '0.8900', 'dvalue_min': None, 'dvalue_max': None, 'tag': 'LENS', 'method': 'PHOTO', 'info': None}]\n",
      "[{'value': '0.2540', 'dvalue_min': None, 'dvalue_max': None, 'tag': 'LENS', 'method': 'PHOTO', 'info': None}]\n",
      "[]\n",
      "[{'value': '0.6800', 'dvalue_min': None, 'dvalue_max': None, 'tag': 'LENS', 'method': 'PHOTO', 'info': None}, {'value': '0.6900', 'dvalue_min': None, 'dvalue_max': None, 'tag': 'LENS', 'method': 'PHOTO', 'info': None}, {'value': '0.5400', 'dvalue_min': None, 'dvalue_max': None, 'tag': 'LENS', 'method': 'PHOTO', 'info': None}]\n",
      "[]\n",
      "[]\n",
      "[]\n",
      "[{'value': '0.5500', 'dvalue_min': None, 'dvalue_max': None, 'tag': 'LENS', 'method': 'PHOTO', 'info': None}]\n",
      "[{'value': '0.3600', 'dvalue_min': None, 'dvalue_max': None, 'tag': 'LENS', 'method': 'SPECTRO', 'info': None}, {'value': '0.2560', 'dvalue_min': None, 'dvalue_max': None, 'tag': 'LENS', 'method': 'PHOTO', 'info': None}]\n",
      "[]\n",
      "[]\n",
      "[]\n",
      "[{'value': '0.3780', 'dvalue_min': None, 'dvalue_max': None, 'tag': 'LENS', 'method': 'PHOTO', 'info': None}, {'value': '0.3200', 'dvalue_min': None, 'dvalue_max': None, 'tag': 'LENS', 'method': 'PHOTO', 'info': None}]\n",
      "[]\n",
      "[]\n",
      "[]\n",
      "[]\n",
      "[]\n",
      "[]\n",
      "[{'value': '0.7000', 'dvalue_min': None, 'dvalue_max': None, 'tag': 'LENS', 'method': 'SPECTRO', 'info': None}, {'value': '2.5000', 'dvalue_min': None, 'dvalue_max': None, 'tag': 'SOURCE', 'method': 'PHOTO', 'info': None}]\n",
      "[{'value': '0.3600', 'dvalue_min': None, 'dvalue_max': None, 'tag': 'LENS', 'method': 'PHOTO', 'info': None}]\n",
      "[{'value': '0.2477', 'dvalue_min': None, 'dvalue_max': None, 'tag': 'LENS', 'method': 'SPECTRO', 'info': None}]\n",
      "[]\n",
      "[{'value': '0.8100', 'dvalue_min': None, 'dvalue_max': None, 'tag': 'LENS', 'method': 'PHOTO', 'info': None}]\n",
      "[{'value': '2.2020', 'dvalue_min': None, 'dvalue_max': None, 'tag': 'SOURCE', 'method': 'SPECTRO', 'info': None}]\n",
      "[]\n",
      "[{'value': '0.7830', 'dvalue_min': None, 'dvalue_max': None, 'tag': 'LENS', 'method': 'PHOTO', 'info': None}]\n",
      "[{'value': '0.3400', 'dvalue_min': None, 'dvalue_max': None, 'tag': 'LENS', 'method': 'PHOTO', 'info': None}]\n",
      "[{'value': '0.3200', 'dvalue_min': None, 'dvalue_max': None, 'tag': 'LENS', 'method': 'PHOTO', 'info': None}]\n",
      "[]\n",
      "[]\n",
      "[]\n",
      "[{'value': '0.2840', 'dvalue_min': None, 'dvalue_max': None, 'tag': 'LENS', 'method': 'PHOTO', 'info': None}]\n",
      "[{'value': '2.0160', 'dvalue_min': None, 'dvalue_max': None, 'tag': 'SOURCE', 'method': 'SPECTRO', 'info': None}, {'value': '0.4390', 'dvalue_min': None, 'dvalue_max': None, 'tag': 'LENS', 'method': 'SPECTRO', 'info': None}]\n",
      "[]\n",
      "[{'value': '0.2560', 'dvalue_min': None, 'dvalue_max': None, 'tag': 'LENS', 'method': 'PHOTO', 'info': None}]\n",
      "[{'value': '0.5400', 'dvalue_min': None, 'dvalue_max': None, 'tag': 'LENS', 'method': 'PHOTO', 'info': None}, {'value': '0.7000', 'dvalue_min': None, 'dvalue_max': None, 'tag': 'LENS', 'method': 'PHOTO', 'info': None}]\n",
      "[]\n",
      "[]\n",
      "[]\n",
      "[]\n",
      "[{'value': '0.5200', 'dvalue_min': None, 'dvalue_max': None, 'tag': 'LENS', 'method': 'PHOTO', 'info': None}]\n",
      "[]\n",
      "[{'value': '0.6000', 'dvalue_min': None, 'dvalue_max': None, 'tag': 'LENS', 'method': 'PHOTO', 'info': None}]\n",
      "[{'value': '0.2560', 'dvalue_min': None, 'dvalue_max': None, 'tag': 'LENS', 'method': 'PHOTO', 'info': None}]\n",
      "[{'value': '1.2300', 'dvalue_min': None, 'dvalue_max': None, 'tag': 'LENS', 'method': 'PHOTO', 'info': None}]\n",
      "[]\n",
      "[]\n",
      "[]\n",
      "[]\n",
      "[]\n",
      "[]\n",
      "[]\n",
      "[]\n",
      "[]\n",
      "[]\n",
      "[]\n"
     ]
    }
   ],
   "source": [
    "for lens in lenses:\n",
    "    print(lens['redshift'])"
   ]
  },
  {
   "cell_type": "markdown",
   "id": "d141ba24",
   "metadata": {},
   "source": [
    "### 4. Here are all the keys returned for the main lens metadata table. Please see other example documents on how to return values from the fields of other tables"
   ]
  },
  {
   "cell_type": "code",
   "execution_count": null,
   "id": "5f11ab96",
   "metadata": {
    "scrolled": true
   },
   "outputs": [],
   "source": [
    "if len(lenses):\n",
    "    for key in lenses[0].keys():\n",
    "        print(key,'=',lenses[0][key])"
   ]
  },
  {
   "cell_type": "code",
   "execution_count": null,
   "id": "c64f33d6-75f1-4365-bba6-b094e1293fc3",
   "metadata": {},
   "outputs": [],
   "source": []
  },
  {
   "cell_type": "code",
   "execution_count": null,
   "id": "bc0f00cd-0830-46f6-b2cd-65baac5d0b73",
   "metadata": {},
   "outputs": [],
   "source": []
  }
 ],
 "metadata": {
  "kernelspec": {
   "display_name": "Python 3 (ipykernel)",
   "language": "python",
   "name": "python3"
  },
  "language_info": {
   "codemirror_mode": {
    "name": "ipython",
    "version": 3
   },
   "file_extension": ".py",
   "mimetype": "text/x-python",
   "name": "python",
   "nbconvert_exporter": "python",
   "pygments_lexer": "ipython3",
   "version": "3.9.18"
  }
 },
 "nbformat": 4,
 "nbformat_minor": 5
}
